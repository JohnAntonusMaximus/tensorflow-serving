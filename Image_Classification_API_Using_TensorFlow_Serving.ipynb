{
  "nbformat": 4,
  "nbformat_minor": 0,
  "metadata": {
    "colab": {
      "name": "Image Classification API Using TensorFlow Serving.ipynb",
      "version": "0.3.2",
      "provenance": [],
      "include_colab_link": true
    },
    "kernelspec": {
      "name": "python3",
      "display_name": "Python 3"
    },
    "accelerator": "GPU"
  },
  "cells": [
    {
      "cell_type": "markdown",
      "metadata": {
        "id": "view-in-github",
        "colab_type": "text"
      },
      "source": [
        "<a href=\"https://colab.research.google.com/github/JohnAntonusMaximus/tensorflow-serving/blob/master/Image_Classification_API_Using_TensorFlow_Serving.ipynb\" target=\"_parent\"><img src=\"https://colab.research.google.com/assets/colab-badge.svg\" alt=\"Open In Colab\"/></a>"
      ]
    },
    {
      "cell_type": "markdown",
      "metadata": {
        "id": "u6Z9NNZpIjCE",
        "colab_type": "text"
      },
      "source": [
        "# TensorFlow Serving For Production\n",
        "\n"
      ]
    },
    {
      "cell_type": "markdown",
      "metadata": {
        "id": "Y6FPFkNVIpFR",
        "colab_type": "text"
      },
      "source": [
        "## Download and Install All Dependencies"
      ]
    },
    {
      "cell_type": "code",
      "metadata": {
        "id": "WJIg2LU9IorU",
        "colab_type": "code",
        "colab": {}
      },
      "source": [
        ""
      ],
      "execution_count": 0,
      "outputs": []
    },
    {
      "cell_type": "code",
      "metadata": {
        "id": "Bzp2FuPIbF0s",
        "colab_type": "code",
        "colab": {
          "base_uri": "https://localhost:8080/",
          "height": 122
        },
        "outputId": "21d1b493-8022-4d25-a314-32c7e1fb1fed"
      },
      "source": [
        "!echo \"deb [arch=amd64] http://storage.googleapis.com/tensorflow-serving-apt stable tensorflow-model-server tensorflow-model-server-universal\" | sudo tee /etc/apt/sources.list.d/tensorflow-serving.list && curl https://storage.googleapis.com/tensorflow-serving-apt/tensorflow-serving.release.pub.gpg | sudo apt-key add -"
      ],
      "execution_count": 1,
      "outputs": [
        {
          "output_type": "stream",
          "text": [
            "deb [arch=amd64] http://storage.googleapis.com/tensorflow-serving-apt stable tensorflow-model-server tensorflow-model-server-universal\n",
            "  % Total    % Received % Xferd  Average Speed   Time    Time     Time  Current\n",
            "                                 Dload  Upload   Total   Spent    Left  Speed\n",
            "\r  0     0    0     0    0     0      0      0 --:--:-- --:--:-- --:--:--     0\r100  2943  100  2943    0     0  21962      0 --:--:-- --:--:-- --:--:-- 21962\n",
            "OK\n"
          ],
          "name": "stdout"
        }
      ]
    },
    {
      "cell_type": "code",
      "metadata": {
        "id": "uw82Eu-Hlm0e",
        "colab_type": "code",
        "colab": {
          "base_uri": "https://localhost:8080/",
          "height": 88
        },
        "outputId": "7faccf82-7570-4baf-e99f-b5b1d9e9a243"
      },
      "source": [
        "!echo \"deb [arch=amd64] http://storage.googleapis.com/tensorflow-serving-apt stable tensorflow-model-server tensorflow-model-server-universal\" | sudo tee /etc/apt/sources.list.d/tensorflow-serving.list && \\\n",
        "!curl https://storage.googleapis.com/tensorflow-serving-apt/tensorflow-serving.release.pub.gpg | sudo apt-key add -"
      ],
      "execution_count": 35,
      "outputs": [
        {
          "output_type": "stream",
          "text": [
            "deb [arch=amd64] http://storage.googleapis.com/tensorflow-serving-apt stable tensorflow-model-server tensorflow-model-server-universal\n",
            "/bin/bash: !curl: command not found\n",
            "gpg: no valid OpenPGP data found.\n"
          ],
          "name": "stdout"
        }
      ]
    },
    {
      "cell_type": "code",
      "metadata": {
        "id": "mzkr99TCbdUJ",
        "colab_type": "code",
        "colab": {
          "base_uri": "https://localhost:8080/",
          "height": 343
        },
        "outputId": "50c35dd6-9d01-4e81-892e-13e74f0ec6f1"
      },
      "source": [
        "!apt-get install tensorflow-model-server"
      ],
      "execution_count": 36,
      "outputs": [
        {
          "output_type": "stream",
          "text": [
            "Reading package lists... Done\n",
            "Building dependency tree       \n",
            "Reading state information... Done\n",
            "The following package was automatically installed and is no longer required:\n",
            "  libnvidia-common-410\n",
            "Use 'apt autoremove' to remove it.\n",
            "The following NEW packages will be installed:\n",
            "  tensorflow-model-server\n",
            "0 upgraded, 1 newly installed, 0 to remove and 35 not upgraded.\n",
            "Need to get 151 MB of archives.\n",
            "After this operation, 0 B of additional disk space will be used.\n",
            "Get:1 http://storage.googleapis.com/tensorflow-serving-apt stable/tensorflow-model-server amd64 tensorflow-model-server all 1.14.0 [151 MB]\n",
            "Fetched 151 MB in 2s (84.5 MB/s)\n",
            "Selecting previously unselected package tensorflow-model-server.\n",
            "(Reading database ... 131289 files and directories currently installed.)\n",
            "Preparing to unpack .../tensorflow-model-server_1.14.0_all.deb ...\n",
            "Unpacking tensorflow-model-server (1.14.0) ...\n",
            "Setting up tensorflow-model-server (1.14.0) ...\n"
          ],
          "name": "stdout"
        }
      ]
    },
    {
      "cell_type": "code",
      "metadata": {
        "id": "jvHly4lMbn3R",
        "colab_type": "code",
        "colab": {
          "base_uri": "https://localhost:8080/",
          "height": 649
        },
        "outputId": "90c6b49a-4879-471e-a8e8-fbde21ab0e1b"
      },
      "source": [
        "!pip install tensorflow-gpu==1.13.1"
      ],
      "execution_count": 4,
      "outputs": [
        {
          "output_type": "stream",
          "text": [
            "Collecting tensorflow-gpu==1.13.1\n",
            "\u001b[?25l  Downloading https://files.pythonhosted.org/packages/7b/b1/0ad4ae02e17ddd62109cd54c291e311c4b5fd09b4d0678d3d6ce4159b0f0/tensorflow_gpu-1.13.1-cp36-cp36m-manylinux1_x86_64.whl (345.2MB)\n",
            "\u001b[K     |████████████████████████████████| 345.2MB 48kB/s \n",
            "\u001b[?25hCollecting tensorboard<1.14.0,>=1.13.0 (from tensorflow-gpu==1.13.1)\n",
            "\u001b[?25l  Downloading https://files.pythonhosted.org/packages/0f/39/bdd75b08a6fba41f098b6cb091b9e8c7a80e1b4d679a581a0ccd17b10373/tensorboard-1.13.1-py3-none-any.whl (3.2MB)\n",
            "\u001b[K     |████████████████████████████████| 3.2MB 35.0MB/s \n",
            "\u001b[?25hRequirement already satisfied: astor>=0.6.0 in /usr/local/lib/python3.6/dist-packages (from tensorflow-gpu==1.13.1) (0.8.0)\n",
            "Requirement already satisfied: keras-applications>=1.0.6 in /usr/local/lib/python3.6/dist-packages (from tensorflow-gpu==1.13.1) (1.0.8)\n",
            "Requirement already satisfied: grpcio>=1.8.6 in /usr/local/lib/python3.6/dist-packages (from tensorflow-gpu==1.13.1) (1.15.0)\n",
            "Requirement already satisfied: termcolor>=1.1.0 in /usr/local/lib/python3.6/dist-packages (from tensorflow-gpu==1.13.1) (1.1.0)\n",
            "Requirement already satisfied: six>=1.10.0 in /usr/local/lib/python3.6/dist-packages (from tensorflow-gpu==1.13.1) (1.12.0)\n",
            "Collecting tensorflow-estimator<1.14.0rc0,>=1.13.0 (from tensorflow-gpu==1.13.1)\n",
            "\u001b[?25l  Downloading https://files.pythonhosted.org/packages/bb/48/13f49fc3fa0fdf916aa1419013bb8f2ad09674c275b4046d5ee669a46873/tensorflow_estimator-1.13.0-py2.py3-none-any.whl (367kB)\n",
            "\u001b[K     |████████████████████████████████| 368kB 51.7MB/s \n",
            "\u001b[?25hRequirement already satisfied: protobuf>=3.6.1 in /usr/local/lib/python3.6/dist-packages (from tensorflow-gpu==1.13.1) (3.7.1)\n",
            "Requirement already satisfied: numpy>=1.13.3 in /usr/local/lib/python3.6/dist-packages (from tensorflow-gpu==1.13.1) (1.16.4)\n",
            "Requirement already satisfied: keras-preprocessing>=1.0.5 in /usr/local/lib/python3.6/dist-packages (from tensorflow-gpu==1.13.1) (1.1.0)\n",
            "Requirement already satisfied: gast>=0.2.0 in /usr/local/lib/python3.6/dist-packages (from tensorflow-gpu==1.13.1) (0.2.2)\n",
            "Requirement already satisfied: absl-py>=0.1.6 in /usr/local/lib/python3.6/dist-packages (from tensorflow-gpu==1.13.1) (0.7.1)\n",
            "Requirement already satisfied: wheel>=0.26 in /usr/local/lib/python3.6/dist-packages (from tensorflow-gpu==1.13.1) (0.33.4)\n",
            "Requirement already satisfied: markdown>=2.6.8 in /usr/local/lib/python3.6/dist-packages (from tensorboard<1.14.0,>=1.13.0->tensorflow-gpu==1.13.1) (3.1.1)\n",
            "Requirement already satisfied: werkzeug>=0.11.15 in /usr/local/lib/python3.6/dist-packages (from tensorboard<1.14.0,>=1.13.0->tensorflow-gpu==1.13.1) (0.15.5)\n",
            "Requirement already satisfied: h5py in /usr/local/lib/python3.6/dist-packages (from keras-applications>=1.0.6->tensorflow-gpu==1.13.1) (2.8.0)\n",
            "Collecting mock>=2.0.0 (from tensorflow-estimator<1.14.0rc0,>=1.13.0->tensorflow-gpu==1.13.1)\n",
            "  Downloading https://files.pythonhosted.org/packages/05/d2/f94e68be6b17f46d2c353564da56e6fb89ef09faeeff3313a046cb810ca9/mock-3.0.5-py2.py3-none-any.whl\n",
            "Requirement already satisfied: setuptools in /usr/local/lib/python3.6/dist-packages (from protobuf>=3.6.1->tensorflow-gpu==1.13.1) (41.0.1)\n",
            "\u001b[31mERROR: tensorflow 1.14.0 has requirement tensorboard<1.15.0,>=1.14.0, but you'll have tensorboard 1.13.1 which is incompatible.\u001b[0m\n",
            "\u001b[31mERROR: tensorflow 1.14.0 has requirement tensorflow-estimator<1.15.0rc0,>=1.14.0rc0, but you'll have tensorflow-estimator 1.13.0 which is incompatible.\u001b[0m\n",
            "Installing collected packages: tensorboard, mock, tensorflow-estimator, tensorflow-gpu\n",
            "  Found existing installation: tensorboard 1.14.0\n",
            "    Uninstalling tensorboard-1.14.0:\n",
            "      Successfully uninstalled tensorboard-1.14.0\n",
            "  Found existing installation: tensorflow-estimator 1.14.0\n",
            "    Uninstalling tensorflow-estimator-1.14.0:\n",
            "      Successfully uninstalled tensorflow-estimator-1.14.0\n",
            "Successfully installed mock-3.0.5 tensorboard-1.13.1 tensorflow-estimator-1.13.0 tensorflow-gpu-1.13.1\n"
          ],
          "name": "stdout"
        }
      ]
    },
    {
      "cell_type": "code",
      "metadata": {
        "id": "3g0nNvzDbr1_",
        "colab_type": "code",
        "colab": {
          "base_uri": "https://localhost:8080/",
          "height": 34
        },
        "outputId": "d1aca37b-e345-422f-fd3f-0b6c5e7b3353"
      },
      "source": [
        "import os\n",
        "import json\n",
        "import random\n",
        "import requests\n",
        "import subprocess\n",
        "import numpy as np\n",
        "import tensorflow as tf\n",
        "import matplotlib.pyplot as plt\n",
        "\n",
        "from tensorflow.keras.datasets import cifar10\n",
        "\n",
        "%matplotlib inline\n",
        "\n",
        "tf.__version__"
      ],
      "execution_count": 61,
      "outputs": [
        {
          "output_type": "execute_result",
          "data": {
            "text/plain": [
              "'1.13.1'"
            ]
          },
          "metadata": {
            "tags": []
          },
          "execution_count": 61
        }
      ]
    },
    {
      "cell_type": "markdown",
      "metadata": {
        "id": "ZvkcgyY4cUCF",
        "colab_type": "text"
      },
      "source": [
        "## Dataset Proprocessing"
      ]
    },
    {
      "cell_type": "markdown",
      "metadata": {
        "id": "Xhcd5Xu_cXzt",
        "colab_type": "text"
      },
      "source": [
        "#### Load the dataset"
      ]
    },
    {
      "cell_type": "code",
      "metadata": {
        "id": "8AoC18UIcRIB",
        "colab_type": "code",
        "colab": {
          "base_uri": "https://localhost:8080/",
          "height": 51
        },
        "outputId": "41a7ceb2-103b-488d-e74e-5e5bca428f37"
      },
      "source": [
        "(X_train, y_train), (X_test, y_test) = cifar10.load_data()"
      ],
      "execution_count": 7,
      "outputs": [
        {
          "output_type": "stream",
          "text": [
            "Downloading data from https://www.cs.toronto.edu/~kriz/cifar-10-python.tar.gz\n",
            "170500096/170498071 [==============================] - 3s 0us/step\n"
          ],
          "name": "stdout"
        }
      ]
    },
    {
      "cell_type": "code",
      "metadata": {
        "id": "jSvlfLIrqWEE",
        "colab_type": "code",
        "colab": {}
      },
      "source": [
        "class_names = ['airplane', 'automobile', 'bird', 'cat', 'deer', 'dog', 'frog', 'horse', 'ship', 'truck']"
      ],
      "execution_count": 0,
      "outputs": []
    },
    {
      "cell_type": "markdown",
      "metadata": {
        "id": "ylVKXjSQcjCe",
        "colab_type": "text"
      },
      "source": [
        "#### Image normalization"
      ]
    },
    {
      "cell_type": "code",
      "metadata": {
        "id": "MiQt1Y8ochgF",
        "colab_type": "code",
        "colab": {}
      },
      "source": [
        "X_train = X_train / 255.0\n",
        "X_test = X_test / 255.0"
      ],
      "execution_count": 0,
      "outputs": []
    },
    {
      "cell_type": "code",
      "metadata": {
        "id": "8i1-TL3keb4K",
        "colab_type": "code",
        "colab": {
          "base_uri": "https://localhost:8080/",
          "height": 286
        },
        "outputId": "6f7b35c3-7f97-49b2-cb77-bcfc412c78e3"
      },
      "source": [
        "plt.imshow(X_train[1])"
      ],
      "execution_count": 9,
      "outputs": [
        {
          "output_type": "execute_result",
          "data": {
            "text/plain": [
              "<matplotlib.image.AxesImage at 0x7f646bf6d828>"
            ]
          },
          "metadata": {
            "tags": []
          },
          "execution_count": 9
        },
        {
          "output_type": "display_data",
          "data": {
            "image/png": "[encoded data removed]",
            "text/plain": [
              "<Figure size 432x288 with 1 Axes>"
            ]
          },
          "metadata": {
            "tags": []
          }
        }
      ]
    },
    {
      "cell_type": "markdown",
      "metadata": {
        "id": "3p2jp23-e9I-",
        "colab_type": "text"
      },
      "source": [
        "## Define The Model"
      ]
    },
    {
      "cell_type": "code",
      "metadata": {
        "id": "ullaREZwegfV",
        "colab_type": "code",
        "colab": {
          "base_uri": "https://localhost:8080/",
          "height": 88
        },
        "outputId": "67824ee2-8e34-499d-d895-7584db6473e6"
      },
      "source": [
        "model = tf.keras.models.Sequential()\n",
        "model.add(tf.keras.layers.Conv2D(filters=32, kernel_size=3, padding=\"same\", activation=\"relu\", input_shape=[32, 32, 3]))\n",
        "model.add(tf.keras.layers.Conv2D(filters=32, kernel_size=3, padding=\"same\", activation=\"relu\"))\n",
        "model.add(tf.keras.layers.MaxPool2D(pool_size=2, strides=2, padding='valid'))\n",
        "model.add(tf.keras.layers.Conv2D(filters=64, kernel_size=3, padding=\"same\", activation=\"relu\"))\n",
        "model.add(tf.keras.layers.Conv2D(filters=64, kernel_size=3, padding=\"same\", activation=\"relu\"))\n",
        "model.add(tf.keras.layers.MaxPool2D(pool_size=2, strides=2, padding='valid'))\n",
        "model.add(tf.keras.layers.Flatten())\n",
        "model.add(tf.keras.layers.Dense(units=128, activation='relu'))\n",
        "model.add(tf.keras.layers.Dense(units=10, activation='softmax'))"
      ],
      "execution_count": 10,
      "outputs": [
        {
          "output_type": "stream",
          "text": [
            "WARNING:tensorflow:From /usr/local/lib/python3.6/dist-packages/tensorflow/python/ops/resource_variable_ops.py:435: colocate_with (from tensorflow.python.framework.ops) is deprecated and will be removed in a future version.\n",
            "Instructions for updating:\n",
            "Colocations handled automatically by placer.\n"
          ],
          "name": "stdout"
        }
      ]
    },
    {
      "cell_type": "code",
      "metadata": {
        "id": "yb7LtH-ce_tH",
        "colab_type": "code",
        "colab": {}
      },
      "source": [
        "model.compile(loss=\"sparse_categorical_crossentropy\", optimizer=tf.keras.optimizers.Adam(0.0001),metrics=['sparse_categorical_accuracy'])"
      ],
      "execution_count": 0,
      "outputs": []
    },
    {
      "cell_type": "markdown",
      "metadata": {
        "id": "n7u0PXpcffSE",
        "colab_type": "text"
      },
      "source": [
        "#### Train the model"
      ]
    },
    {
      "cell_type": "code",
      "metadata": {
        "id": "kOW7OlXafSl5",
        "colab_type": "code",
        "colab": {
          "base_uri": "https://localhost:8080/",
          "height": 374
        },
        "outputId": "bcb4e409-91b5-42a8-ccf4-175529ac1359"
      },
      "source": [
        "model.fit(X_train, y_train, epochs=10)"
      ],
      "execution_count": 17,
      "outputs": [
        {
          "output_type": "stream",
          "text": [
            "Epoch 1/10\n",
            "50000/50000 [==============================] - 9s 185us/sample - loss: 0.8756 - sparse_categorical_accuracy: 0.6952\n",
            "Epoch 2/10\n",
            "50000/50000 [==============================] - 9s 187us/sample - loss: 0.8150 - sparse_categorical_accuracy: 0.7178\n",
            "Epoch 3/10\n",
            "50000/50000 [==============================] - 9s 184us/sample - loss: 0.7637 - sparse_categorical_accuracy: 0.7358\n",
            "Epoch 4/10\n",
            "50000/50000 [==============================] - 9s 181us/sample - loss: 0.7185 - sparse_categorical_accuracy: 0.7522\n",
            "Epoch 5/10\n",
            "50000/50000 [==============================] - 9s 186us/sample - loss: 0.6692 - sparse_categorical_accuracy: 0.7687\n",
            "Epoch 6/10\n",
            "50000/50000 [==============================] - 9s 182us/sample - loss: 0.6276 - sparse_categorical_accuracy: 0.7841\n",
            "Epoch 7/10\n",
            "50000/50000 [==============================] - 9s 181us/sample - loss: 0.5856 - sparse_categorical_accuracy: 0.7974\n",
            "Epoch 8/10\n",
            "50000/50000 [==============================] - 9s 183us/sample - loss: 0.5460 - sparse_categorical_accuracy: 0.8117\n",
            "Epoch 9/10\n",
            "50000/50000 [==============================] - 9s 184us/sample - loss: 0.5064 - sparse_categorical_accuracy: 0.8237\n",
            "Epoch 10/10\n",
            "50000/50000 [==============================] - 9s 181us/sample - loss: 0.4644 - sparse_categorical_accuracy: 0.8395\n"
          ],
          "name": "stdout"
        },
        {
          "output_type": "execute_result",
          "data": {
            "text/plain": [
              "<tensorflow.python.keras.callbacks.History at 0x7f6467dc8c88>"
            ]
          },
          "metadata": {
            "tags": []
          },
          "execution_count": 17
        }
      ]
    },
    {
      "cell_type": "code",
      "metadata": {
        "id": "X6GKTO3ifp_Y",
        "colab_type": "code",
        "colab": {
          "base_uri": "https://localhost:8080/",
          "height": 34
        },
        "outputId": "5ebfd08d-986b-4f8b-9ce5-0adc386cefb7"
      },
      "source": [
        "test_loss, test_accuracy = model.evaluate(X_test,y_test)"
      ],
      "execution_count": 18,
      "outputs": [
        {
          "output_type": "stream",
          "text": [
            "10000/10000 [==============================] - 1s 106us/sample - loss: 0.9030 - sparse_categorical_accuracy: 0.7107\n"
          ],
          "name": "stdout"
        }
      ]
    },
    {
      "cell_type": "code",
      "metadata": {
        "id": "psEUQvx4gawC",
        "colab_type": "code",
        "colab": {
          "base_uri": "https://localhost:8080/",
          "height": 34
        },
        "outputId": "06d8ad40-4ff2-4baa-c3c3-e4e49c7ae085"
      },
      "source": [
        "print(\"Test Accuracy: {}\".format(test_accuracy))"
      ],
      "execution_count": 19,
      "outputs": [
        {
          "output_type": "stream",
          "text": [
            "Test Accuracy: 0.7106999754905701\n"
          ],
          "name": "stdout"
        }
      ]
    },
    {
      "cell_type": "markdown",
      "metadata": {
        "id": "byQcVwUcjmJX",
        "colab_type": "text"
      },
      "source": [
        "## Prepare Model For Serving"
      ]
    },
    {
      "cell_type": "code",
      "metadata": {
        "id": "0lzpoYbogi1d",
        "colab_type": "code",
        "colab": {}
      },
      "source": [
        "MODEL_DIR = \"model/\"\n",
        "version = 1"
      ],
      "execution_count": 0,
      "outputs": []
    },
    {
      "cell_type": "code",
      "metadata": {
        "id": "oJv0sfi0igyT",
        "colab_type": "code",
        "colab": {}
      },
      "source": [
        "export_path = os.path.join(MODEL_DIR,str(version))"
      ],
      "execution_count": 0,
      "outputs": []
    },
    {
      "cell_type": "code",
      "metadata": {
        "id": "PvB_Sgs4imi-",
        "colab_type": "code",
        "colab": {}
      },
      "source": [
        "if os.path.isdir(export_path):\n",
        "  !rm -r {export_path}"
      ],
      "execution_count": 0,
      "outputs": []
    },
    {
      "cell_type": "markdown",
      "metadata": {
        "id": "v9EfSPpdizL9",
        "colab_type": "text"
      },
      "source": [
        "#### Save the model"
      ]
    },
    {
      "cell_type": "code",
      "metadata": {
        "id": "tmp8U7W_ixi4",
        "colab_type": "code",
        "colab": {
          "base_uri": "https://localhost:8080/",
          "height": 68
        },
        "outputId": "d3f8d7d5-c338-4c59-cafc-ff50e8ea9ba7"
      },
      "source": [
        "tf.saved_model.simple_save(\n",
        "    tf.keras.backend.get_session(),\n",
        "    export_path,\n",
        "    inputs={\"input_image\": model.input},\n",
        "    outputs={t.name:t for t in model.outputs}    \n",
        ")"
      ],
      "execution_count": 48,
      "outputs": [
        {
          "output_type": "stream",
          "text": [
            "INFO:tensorflow:Assets added to graph.\n",
            "INFO:tensorflow:No assets to write.\n",
            "INFO:tensorflow:SavedModel written to: model/1/saved_model.pb\n"
          ],
          "name": "stdout"
        }
      ]
    },
    {
      "cell_type": "markdown",
      "metadata": {
        "id": "pSuB7inhjtPG",
        "colab_type": "text"
      },
      "source": [
        "## Set Up Production Environment"
      ]
    },
    {
      "cell_type": "markdown",
      "metadata": {
        "id": "ciehEgioj1wa",
        "colab_type": "text"
      },
      "source": [
        "#### Run the Tensorflow Serving Rest API"
      ]
    },
    {
      "cell_type": "code",
      "metadata": {
        "id": "0nhc4Jg9j43p",
        "colab_type": "code",
        "colab": {}
      },
      "source": [
        "os.environ['MODEL_DIR'] = os.path.abspath(MODEL_DIR)"
      ],
      "execution_count": 0,
      "outputs": []
    },
    {
      "cell_type": "markdown",
      "metadata": {
        "id": "CFKzDEddjvhA",
        "colab_type": "text"
      },
      "source": [
        "#### Exporting the model directory to environment variables"
      ]
    },
    {
      "cell_type": "code",
      "metadata": {
        "id": "M2ozYcaQjhGe",
        "colab_type": "code",
        "colab": {
          "base_uri": "https://localhost:8080/",
          "height": 34
        },
        "outputId": "048722e8-e632-4e6f-ae49-c5e8cbd69f54"
      },
      "source": [
        "%%bash --bg\n",
        "nohup tensorflow_model_server --rest_api_port=8408 --model_name=image_net --model_base_path=${MODEL_DIR} > server.log 2>&1"
      ],
      "execution_count": 53,
      "outputs": [
        {
          "output_type": "stream",
          "text": [
            "Starting job # 7 in a separate thread.\n"
          ],
          "name": "stdout"
        }
      ]
    },
    {
      "cell_type": "code",
      "metadata": {
        "id": "VDpOcjXRkn2I",
        "colab_type": "code",
        "colab": {
          "base_uri": "https://localhost:8080/",
          "height": 207
        },
        "outputId": "7abe6817-b01d-46ff-f31a-56a3fa2c4058"
      },
      "source": [
        "!tail server.log"
      ],
      "execution_count": 59,
      "outputs": [
        {
          "output_type": "stream",
          "text": [
            "2019-08-07 01:08:46.084409: I external/org_tensorflow/tensorflow/cc/saved_model/reader.cc:31] Reading SavedModel from: /content/model/1\n",
            "2019-08-07 01:08:46.090781: I external/org_tensorflow/tensorflow/cc/saved_model/reader.cc:54] Reading meta graph with tags { serve }\n",
            "2019-08-07 01:08:46.097399: I external/org_tensorflow/tensorflow/core/platform/cpu_feature_guard.cc:142] Your CPU supports instructions that this TensorFlow binary was not compiled to use: AVX2 FMA\n",
            "2019-08-07 01:08:46.124800: I external/org_tensorflow/tensorflow/cc/saved_model/loader.cc:202] Restoring SavedModel bundle.\n",
            "2019-08-07 01:08:46.188311: I external/org_tensorflow/tensorflow/cc/saved_model/loader.cc:311] SavedModel load for tags { serve }; Status: success. Took 103888 microseconds.\n",
            "2019-08-07 01:08:46.188371: I tensorflow_serving/servables/tensorflow/saved_model_warmup.cc:103] No warmup data file found at /content/model/1/assets.extra/tf_serving_warmup_requests\n",
            "2019-08-07 01:08:46.188463: I tensorflow_serving/core/loader_harness.cc:86] Successfully loaded servable version {name: image_net version: 1}\n",
            "2019-08-07 01:08:46.189778: I tensorflow_serving/model_servers/server.cc:324] Running gRPC ModelServer at 0.0.0.0:8500 ...\n",
            "2019-08-07 01:08:46.190351: I tensorflow_serving/model_servers/server.cc:344] Exporting HTTP/REST API at:localhost:8408 ...\n",
            "[evhttp_server.cc : 239] RAW: Entering the event loop ...\n"
          ],
          "name": "stdout"
        }
      ]
    },
    {
      "cell_type": "markdown",
      "metadata": {
        "id": "C6uF_MRgoJcg",
        "colab_type": "text"
      },
      "source": [
        "## Create a Post Request"
      ]
    },
    {
      "cell_type": "code",
      "metadata": {
        "id": "S3hTNRLKkqi1",
        "colab_type": "code",
        "colab": {
          "base_uri": "https://localhost:8080/",
          "height": 34
        },
        "outputId": "c4b6c99e-8d40-46ed-8711-b1754e0a906a"
      },
      "source": [
        "random_image = np.random.randint(0,len(X_test))\n",
        "random_image"
      ],
      "execution_count": 69,
      "outputs": [
        {
          "output_type": "execute_result",
          "data": {
            "text/plain": [
              "7515"
            ]
          },
          "metadata": {
            "tags": []
          },
          "execution_count": 69
        }
      ]
    },
    {
      "cell_type": "markdown",
      "metadata": {
        "id": "9UIcEGdtoaUH",
        "colab_type": "text"
      },
      "source": [
        "#### Create the JSON Object"
      ]
    },
    {
      "cell_type": "code",
      "metadata": {
        "id": "xnSImFSBoZVa",
        "colab_type": "code",
        "colab": {
          "base_uri": "https://localhost:8080/",
          "height": 54
        },
        "outputId": "1ad5b358-9392-4396-a767-7eb2b64e8570"
      },
      "source": [
        "data = json.dumps({\"signature_name\": \"serving_default\", \"instances\": [X_test[random_image].tolist()]})\n",
        "data"
      ],
      "execution_count": 70,
      "outputs": [
        {
          "output_type": "execute_result",
          "data": {
            "text/plain": [
              "'{\"signature_name\": \"serving_default\", \"instances\": [[[[0.5882352941176471, 0.6705882352941176, 0.6352941176470588], [0.6274509803921569, 0.6941176470588235, 0.6666666666666666], [0.6313725490196078, 0.6784313725490196, 0.6588235294117647], [0.6039215686274509, 0.6431372549019608, 0.6235294117647059], [0.6039215686274509, 0.6431372549019608, 0.6235294117647059], [0.5490196078431373, 0.6039215686274509, 0.5803921568627451], [0.5647058823529412, 0.6274509803921569, 0.6], [0.5098039215686274, 0.5607843137254902, 0.5294117647058824], [0.4666666666666667, 0.5098039215686274, 0.4745098039215686], [0.4392156862745098, 0.47058823529411764, 0.4392156862745098], [0.5019607843137255, 0.5254901960784314, 0.49019607843137253], [0.6862745098039216, 0.7019607843137254, 0.6627450980392157], [0.7725490196078432, 0.7843137254901961, 0.7411764705882353], [0.807843137254902, 0.8196078431372549, 0.7725490196078432], [0.6549019607843137, 0.6705882352941176, 0.6196078431372549], [0.611764705882353, 0.6352941176470588, 0.5647058823529412], [0.6078431372549019, 0.596078431372549, 0.5294117647058824], [0.7725490196078432, 0.7058823529411765, 0.6392156862745098], [0.7019607843137254, 0.6196078431372549, 0.5450980392156862], [0.6078431372549019, 0.5607843137254902, 0.4745098039215686], [0.49019607843137253, 0.49019607843137253, 0.396078431372549], [0.4823529411764706, 0.49411764705882355, 0.40784313725490196], [0.48627450980392156, 0.49019607843137253, 0.4235294117647059], [0.49019607843137253, 0.5294117647058824, 0.5058823529411764], [0.5607843137254902, 0.6274509803921569, 0.6235294117647059], [0.5294117647058824, 0.592156862745098, 0.5843137254901961], [0.47843137254901963, 0.5372549019607843, 0.5215686274509804], [0.41568627450980394, 0.47058823529411764, 0.4549019607843137], [0.4235294117647059, 0.47058823529411764, 0.45098039215686275], [0.43529411764705883, 0.47843137254901963, 0.4549019607843137], [0.49411764705882355, 0.5411764705882353, 0.5137254901960784], [0.48627450980392156, 0.5411764705882353, 0.5254901960784314]], [[0.3843137254901961, 0.4627450980392157, 0.43137254901960786], [0.2549019607843137, 0.3176470588235294, 0.29411764705882354], [0.24313725490196078, 0.2901960784313726, 0.27058823529411763], [0.22745098039215686, 0.26666666666666666, 0.25098039215686274], [0.2, 0.23921568627450981, 0.2196078431372549], [0.21176470588235294, 0.2627450980392157, 0.24313725490196078], [0.3568627450980392, 0.41568627450980394, 0.38823529411764707], [0.24313725490196078, 0.2901960784313726, 0.23921568627450981], [0.20392156862745098, 0.23529411764705882, 0.1803921568627451], [0.19607843137254902, 0.21176470588235294, 0.17647058823529413], [0.3803921568627451, 0.3764705882352941, 0.3568627450980392], [0.4549019607843137, 0.45098039215686275, 0.43137254901960786], [0.6078431372549019, 0.615686274509804, 0.5803921568627451], [0.6078431372549019, 0.6274509803921569, 0.5803921568627451], [0.5568627450980392, 0.592156862745098, 0.5294117647058824], [0.592156862745098, 0.6274509803921569, 0.5725490196078431], [0.5254901960784314, 0.5254901960784314, 0.47843137254901963], [0.6235294117647059, 0.5882352941176471, 0.5411764705882353], [0.5019607843137255, 0.4627450980392157, 0.4117647058823529], [0.43137254901960786, 0.4392156862745098, 0.37254901960784315], [0.47058823529411764, 0.5176470588235295, 0.4549019607843137], [0.4980392156862745, 0.5490196078431373, 0.5019607843137255], [0.5411764705882353, 0.5764705882352941, 0.5529411764705883], [0.5254901960784314, 0.6, 0.596078431372549], [0.5647058823529412, 0.6588235294117647, 0.6627450980392157], [0.596078431372549, 0.6862745098039216, 0.6901960784313725], [0.5372549019607843, 0.6235294117647059, 0.6274509803921569], [0.49019607843137253, 0.5686274509803921, 0.5725490196078431], [0.4980392156862745, 0.5686274509803921, 0.5803921568627451], [0.4470588235294118, 0.5176470588235295, 0.5254901960784314], [0.4745098039215686, 0.5450980392156862, 0.5529411764705883], [0.4588235294117647, 0.5450980392156862, 0.5647058823529412]], [[0.3411764705882353, 0.3568627450980392, 0.30196078431372547], [0.19607843137254902, 0.19607843137254902, 0.14901960784313725], [0.12549019607843137, 0.10588235294117647, 0.06666666666666667], [0.1450980392156863, 0.11764705882352941, 0.0784313725490196], [0.1843137254901961, 0.15294117647058825, 0.11764705882352941], [0.24313725490196078, 0.2196078431372549, 0.1803921568627451], [0.3843137254901961, 0.37254901960784315, 0.3254901960784314], [0.3686274509803922, 0.35294117647058826, 0.30196078431372547], [0.34901960784313724, 0.34901960784313724, 0.2980392156862745], [0.20392156862745098, 0.23137254901960785, 0.2], [0.20784313725490197, 0.27058823529411763, 0.2549019607843137], [0.24705882352941178, 0.3254901960784314, 0.3137254901960784], [0.36470588235294116, 0.42745098039215684, 0.4117647058823529], [0.38823529411764707, 0.42745098039215684, 0.4], [0.5254901960784314, 0.5490196078431373, 0.5137254901960784], [0.6431372549019608, 0.6941176470588235, 0.6784313725490196], [0.4666666666666667, 0.5137254901960784, 0.5176470588235295], [0.39215686274509803, 0.41568627450980394, 0.4196078431372549], [0.2235294117647059, 0.26666666666666666, 0.2627450980392157], [0.19215686274509805, 0.2901960784313726, 0.27450980392156865], [0.45098039215686275, 0.5882352941176471, 0.5764705882352941], [0.5019607843137255, 0.6274509803921569, 0.6431372549019608], [0.5843137254901961, 0.6784313725490196, 0.7176470588235294], [0.615686274509804, 0.7215686274509804, 0.7294117647058823], [0.6235294117647059, 0.7294117647058823, 0.7254901960784313], [0.6509803921568628, 0.7529411764705882, 0.7529411764705882], [0.6196078431372549, 0.7137254901960784, 0.7176470588235294], [0.592156862745098, 0.6784313725490196, 0.6941176470588235], [0.611764705882353, 0.6901960784313725, 0.7137254901960784], [0.5686274509803921, 0.6470588235294118, 0.6705882352941176], [0.5568627450980392, 0.6313725490196078, 0.6588235294117647], [0.5254901960784314, 0.6235294117647059, 0.6509803921568628]], [[0.49019607843137253, 0.4196078431372549, 0.3411764705882353], [0.4666666666666667, 0.3803921568627451, 0.3137254901960784], [0.45098039215686275, 0.3568627450980392, 0.2980392156862745], [0.4549019607843137, 0.35294117647058826, 0.2980392156862745], [0.45098039215686275, 0.3568627450980392, 0.2980392156862745], [0.396078431372549, 0.3058823529411765, 0.25098039215686274], [0.3686274509803922, 0.28627450980392155, 0.2235294117647059], [0.2823529411764706, 0.2196078431372549, 0.1803921568627451], [0.20392156862745098, 0.18823529411764706, 0.16470588235294117], [0.07058823529411765, 0.14901960784313725, 0.12549019607843137], [0.20784313725490197, 0.3568627450980392, 0.33725490196078434], [0.37254901960784315, 0.5254901960784314, 0.5058823529411764], [0.4470588235294118, 0.5568627450980392, 0.5333333333333333], [0.5176470588235295, 0.5333333333333333, 0.5176470588235295], [0.7137254901960784, 0.6705882352941176, 0.6588235294117647], [0.6666666666666666, 0.6627450980392157, 0.6549019607843137], [0.6196078431372549, 0.6431372549019608, 0.6352941176470588], [0.36470588235294116, 0.3764705882352941, 0.37254901960784315], [0.22745098039215686, 0.26666666666666666, 0.25882352941176473], [0.32941176470588235, 0.4235294117647059, 0.41568627450980394], [0.48627450980392156, 0.615686274509804, 0.6235294117647059], [0.5098039215686274, 0.6470588235294118, 0.6784313725490196], [0.5686274509803921, 0.6862745098039216, 0.7372549019607844], [0.6235294117647059, 0.7294117647058823, 0.7372549019607844], [0.6313725490196078, 0.7333333333333333, 0.7176470588235294], [0.6627450980392157, 0.7529411764705882, 0.7450980392156863], [0.6196078431372549, 0.7058823529411765, 0.7098039215686275], [0.611764705882353, 0.6901960784313725, 0.7058823529411765], [0.6392156862745098, 0.7137254901960784, 0.7372549019607844], [0.6078431372549019, 0.6745098039215687, 0.7058823529411765], [0.592156862745098, 0.6588235294117647, 0.6901960784313725], [0.5529411764705883, 0.6431372549019608, 0.6666666666666666]], [[0.4392156862745098, 0.3686274509803922, 0.30196078431372547], [0.3568627450980392, 0.30980392156862746, 0.25882352941176473], [0.28627450980392155, 0.26666666666666666, 0.23137254901960785], [0.21568627450980393, 0.2196078431372549, 0.19215686274509805], [0.17647058823529413, 0.18823529411764706, 0.16470588235294117], [0.16470588235294117, 0.1843137254901961, 0.1568627450980392], [0.2196078431372549, 0.24313725490196078, 0.20392156862745098], [0.21568627450980393, 0.27058823529411763, 0.2627450980392157], [0.24313725490196078, 0.2980392156862745, 0.3176470588235294], [0.09803921568627451, 0.2549019607843137, 0.23921568627450981], [0.24705882352941178, 0.36470588235294116, 0.32941176470588235], [0.5098039215686274, 0.5019607843137255, 0.45098039215686275], [0.6235294117647059, 0.5568627450980392, 0.4666666666666667], [0.6901960784313725, 0.48627450980392156, 0.41568627450980394], [0.6784313725490196, 0.47058823529411764, 0.403921568627451], [0.5019607843137255, 0.3764705882352941, 0.3215686274509804], [0.5254901960784314, 0.4470588235294118, 0.38823529411764707], [0.5725490196078431, 0.43529411764705883, 0.396078431372549], [0.5843137254901961, 0.48627450980392156, 0.47058823529411764], [0.5019607843137255, 0.5098039215686274, 0.5215686274509804], [0.5215686274509804, 0.5764705882352941, 0.6274509803921569], [0.4549019607843137, 0.6235294117647059, 0.6705882352941176], [0.47843137254901963, 0.6627450980392157, 0.7058823529411765], [0.5411764705882353, 0.6588235294117647, 0.6901960784313725], [0.5686274509803921, 0.6666666666666666, 0.6901960784313725], [0.5803921568627451, 0.6784313725490196, 0.7019607843137254], [0.5686274509803921, 0.6627450980392157, 0.6901960784313725], [0.5647058823529412, 0.6549019607843137, 0.6862745098039216], [0.5764705882352941, 0.6666666666666666, 0.7019607843137254], [0.5490196078431373, 0.6392156862745098, 0.6745098039215687], [0.5450980392156862, 0.6352941176470588, 0.6705882352941176], [0.5333333333333333, 0.6352941176470588, 0.6705882352941176]], [[0.09019607843137255, 0.11764705882352941, 0.06666666666666667], [0.09803921568627451, 0.1568627450980392, 0.11764705882352941], [0.12549019607843137, 0.2196078431372549, 0.2], [0.1607843137254902, 0.2823529411764706, 0.27450980392156865], [0.23137254901960785, 0.3764705882352941, 0.36470588235294116], [0.2901960784313726, 0.44313725490196076, 0.43137254901960786], [0.37254901960784315, 0.5294117647058824, 0.5137254901960784], [0.39215686274509803, 0.5450980392156862, 0.5568627450980392], [0.43529411764705883, 0.5176470588235295, 0.5647058823529412], [0.30980392156862746, 0.40784313725490196, 0.4235294117647059], [0.5176470588235295, 0.5176470588235295, 0.5215686274509804], [0.7450980392156863, 0.6274509803921569, 0.6196078431372549], [0.8313725490196079, 0.6980392156862745, 0.6392156862745098], [0.8901960784313725, 0.6588235294117647, 0.6], [0.792156862745098, 0.5882352941176471, 0.5098039215686274], [0.6666666666666666, 0.5490196078431373, 0.4627450980392157], [0.6588235294117647, 0.5607843137254902, 0.48627450980392156], [0.807843137254902, 0.592156862745098, 0.5803921568627451], [0.803921568627451, 0.6470588235294118, 0.6588235294117647], [0.6235294117647059, 0.6392156862745098, 0.6470588235294118], [0.5294117647058824, 0.6235294117647059, 0.6549019607843137], [0.43137254901960786, 0.6235294117647059, 0.6588235294117647], [0.47843137254901963, 0.6196078431372549, 0.6823529411764706], [0.5019607843137255, 0.611764705882353, 0.6784313725490196], [0.5019607843137255, 0.6235294117647059, 0.6784313725490196], [0.5019607843137255, 0.6274509803921569, 0.6823529411764706], [0.49411764705882355, 0.6196078431372549, 0.6745098039215687], [0.49411764705882355, 0.6196078431372549, 0.6745098039215687], [0.49411764705882355, 0.6196078431372549, 0.6745098039215687], [0.4823529411764706, 0.6078431372549019, 0.6588235294117647], [0.47843137254901963, 0.6039215686274509, 0.6588235294117647], [0.4745098039215686, 0.6078431372549019, 0.6549019607843137]], [[0.23921568627450981, 0.29411764705882354, 0.2901960784313726], [0.2901960784313726, 0.36470588235294116, 0.36470588235294116], [0.3137254901960784, 0.41568627450980394, 0.4196078431372549], [0.35294117647058826, 0.47843137254901963, 0.49411764705882355], [0.3803921568627451, 0.5333333333333333, 0.5529411764705883], [0.3764705882352941, 0.5490196078431373, 0.5803921568627451], [0.3843137254901961, 0.5725490196078431, 0.6039215686274509], [0.3686274509803922, 0.5764705882352941, 0.611764705882353], [0.41568627450980394, 0.5529411764705883, 0.5803921568627451], [0.5215686274509804, 0.5411764705882353, 0.5647058823529412], [0.7843137254901961, 0.7372549019607844, 0.7607843137254902], [0.792156862745098, 0.7529411764705882, 0.7764705882352941], [0.7529411764705882, 0.7372549019607844, 0.7411764705882353], [0.7607843137254902, 0.7098039215686275, 0.6862745098039216], [0.803921568627451, 0.7176470588235294, 0.6627450980392157], [0.7764705882352941, 0.6, 0.5411764705882353], [0.7450980392156863, 0.6470588235294118, 0.5882352941176471], [0.7098039215686275, 0.6549019607843137, 0.6470588235294118], [0.6823529411764706, 0.6862745098039216, 0.6980392156862745], [0.6862745098039216, 0.7098039215686275, 0.7176470588235294], [0.7058823529411765, 0.6823529411764706, 0.7098039215686275], [0.5019607843137255, 0.5882352941176471, 0.615686274509804], [0.44313725490196076, 0.5803921568627451, 0.6274509803921569], [0.44313725490196076, 0.592156862745098, 0.6588235294117647], [0.4392156862745098, 0.596078431372549, 0.6666666666666666], [0.4392156862745098, 0.596078431372549, 0.6666666666666666], [0.4392156862745098, 0.596078431372549, 0.6666666666666666], [0.44313725490196076, 0.6039215686274509, 0.6745098039215687], [0.4392156862745098, 0.596078431372549, 0.6666666666666666], [0.43529411764705883, 0.592156862745098, 0.6627450980392157], [0.43529411764705883, 0.592156862745098, 0.6627450980392157], [0.43137254901960786, 0.592156862745098, 0.6509803921568628]], [[0.3568627450980392, 0.39215686274509803, 0.42745098039215684], [0.25098039215686274, 0.2980392156862745, 0.32941176470588235], [0.17254901960784313, 0.23529411764705882, 0.26666666666666666], [0.25882352941176473, 0.34509803921568627, 0.3803921568627451], [0.40784313725490196, 0.5254901960784314, 0.5764705882352941], [0.3764705882352941, 0.5254901960784314, 0.592156862745098], [0.3764705882352941, 0.5490196078431373, 0.6235294117647059], [0.35294117647058826, 0.5568627450980392, 0.6078431372549019], [0.40784313725490196, 0.5529411764705883, 0.5607843137254902], [0.6431372549019608, 0.5882352941176471, 0.592156862745098], [0.6705882352941176, 0.615686274509804, 0.615686274509804], [0.41568627450980394, 0.49019607843137253, 0.5019607843137255], [0.3215686274509804, 0.43137254901960786, 0.4666666666666667], [0.3764705882352941, 0.4627450980392157, 0.4588235294117647], [0.7215686274509804, 0.6392156862745098, 0.611764705882353], [0.8313725490196079, 0.5450980392156862, 0.5137254901960784], [0.6352941176470588, 0.5333333333333333, 0.49019607843137253], [0.25098039215686274, 0.3411764705882353, 0.33725490196078434], [0.2, 0.3568627450980392, 0.3607843137254902], [0.30980392156862746, 0.3411764705882353, 0.34901960784313724], [0.7098039215686275, 0.5529411764705883, 0.5843137254901961], [0.5490196078431373, 0.5294117647058824, 0.5490196078431373], [0.41568627450980394, 0.5607843137254902, 0.592156862745098], [0.39215686274509803, 0.5686274509803921, 0.6313725490196078], [0.38823529411764707, 0.5647058823529412, 0.6392156862745098], [0.38823529411764707, 0.5647058823529412, 0.6352941176470588], [0.38823529411764707, 0.5647058823529412, 0.6352941176470588], [0.396078431372549, 0.5686274509803921, 0.6431372549019608], [0.39215686274509803, 0.5686274509803921, 0.6392156862745098], [0.38823529411764707, 0.5647058823529412, 0.6352941176470588], [0.39215686274509803, 0.5647058823529412, 0.6392156862745098], [0.396078431372549, 0.5686274509803921, 0.6352941176470588]], [[0.25882352941176473, 0.30980392156862746, 0.3411764705882353], [0.14901960784313725, 0.20392156862745098, 0.23137254901960785], [0.050980392156862744, 0.11372549019607843, 0.13725490196078433], [0.12941176470588237, 0.2235294117647059, 0.2627450980392157], [0.36470588235294116, 0.4980392156862745, 0.5529411764705883], [0.35294117647058826, 0.5215686274509804, 0.592156862745098], [0.33725490196078434, 0.5254901960784314, 0.6039215686274509], [0.3764705882352941, 0.5098039215686274, 0.5725490196078431], [0.5254901960784314, 0.5529411764705883, 0.5725490196078431], [0.788235294117647, 0.6274509803921569, 0.6392156862745098], [0.5725490196078431, 0.5019607843137255, 0.4980392156862745], [0.25882352941176473, 0.396078431372549, 0.403921568627451], [0.27058823529411763, 0.4235294117647059, 0.47058823529411764], [0.34509803921568627, 0.4392156862745098, 0.45098039215686275], [0.7568627450980392, 0.615686274509804, 0.592156862745098], [0.8588235294117647, 0.5529411764705883, 0.48627450980392156], [0.6588235294117647, 0.5529411764705883, 0.49411764705882355], [0.3176470588235294, 0.3803921568627451, 0.41568627450980394], [0.17254901960784313, 0.3176470588235294, 0.37254901960784315], [0.21176470588235294, 0.27450980392156865, 0.29411764705882354], [0.592156862745098, 0.49019607843137253, 0.49411764705882355], [0.6235294117647059, 0.6, 0.5843137254901961], [0.4823529411764706, 0.5607843137254902, 0.5764705882352941], [0.39215686274509803, 0.5333333333333333, 0.5803921568627451], [0.3686274509803922, 0.5411764705882353, 0.6], [0.37254901960784315, 0.5490196078431373, 0.611764705882353], [0.37254901960784315, 0.5450980392156862, 0.6078431372549019], [0.37254901960784315, 0.5450980392156862, 0.6078431372549019], [0.3686274509803922, 0.5411764705882353, 0.6], [0.3686274509803922, 0.5450980392156862, 0.6039215686274509], [0.37254901960784315, 0.5490196078431373, 0.615686274509804], [0.37254901960784315, 0.5411764705882353, 0.615686274509804]], [[0.11764705882352941, 0.1411764705882353, 0.13725490196078433], [0.054901960784313725, 0.09019607843137255, 0.09019607843137255], [0.050980392156862744, 0.12156862745098039, 0.15294117647058825], [0.20784313725490197, 0.34509803921568627, 0.40784313725490196], [0.2823529411764706, 0.4627450980392157, 0.5490196078431373], [0.29411764705882354, 0.4823529411764706, 0.5568627450980392], [0.3215686274509804, 0.48627450980392156, 0.5294117647058824], [0.4627450980392157, 0.5411764705882353, 0.5058823529411764], [0.7372549019607844, 0.5411764705882353, 0.5058823529411764], [0.8823529411764706, 0.5098039215686274, 0.47058823529411764], [0.7725490196078432, 0.5176470588235295, 0.41568627450980394], [0.6705882352941176, 0.5176470588235295, 0.4117647058823529], [0.7098039215686275, 0.5372549019607843, 0.4627450980392157], [0.7333333333333333, 0.5254901960784314, 0.4470588235294118], [0.8823529411764706, 0.5490196078431373, 0.4627450980392157], [0.9058823529411765, 0.4666666666666667, 0.3333333333333333], [0.8588235294117647, 0.5215686274509804, 0.4196078431372549], [0.7568627450980392, 0.5254901960784314, 0.5058823529411764], [0.6392156862745098, 0.42745098039215684, 0.4235294117647059], [0.6666666666666666, 0.38823529411764707, 0.3333333333333333], [0.7647058823529411, 0.43529411764705883, 0.33725490196078434], [0.7725490196078432, 0.5294117647058824, 0.43137254901960786], [0.6313725490196078, 0.5294117647058824, 0.4745098039215686], [0.47058823529411764, 0.5490196078431373, 0.5372549019607843], [0.3686274509803922, 0.5333333333333333, 0.5568627450980392], [0.35294117647058826, 0.5372549019607843, 0.596078431372549], [0.3411764705882353, 0.5215686274509804, 0.592156862745098], [0.3607843137254902, 0.5254901960784314, 0.5882352941176471], [0.3764705882352941, 0.5294117647058824, 0.5803921568627451], [0.35294117647058826, 0.5294117647058824, 0.5803921568627451], [0.32941176470588235, 0.5372549019607843, 0.6039215686274509], [0.34509803921568627, 0.5372549019607843, 0.6039215686274509]], [[0.043137254901960784, 0.06666666666666667, 0.043137254901960784], [0.054901960784313725, 0.09411764705882353, 0.0784313725490196], [0.1411764705882353, 0.23137254901960785, 0.24705882352941178], [0.26666666666666666, 0.41568627450980394, 0.47058823529411764], [0.25098039215686274, 0.43137254901960786, 0.5098039215686274], [0.27450980392156865, 0.44313725490196076, 0.49411764705882355], [0.37254901960784315, 0.48627450980392156, 0.49411764705882355], [0.6823529411764706, 0.6274509803921569, 0.5176470588235295], [0.8627450980392157, 0.4666666666666667, 0.3333333333333333], [0.9333333333333333, 0.3764705882352941, 0.2], [0.9568627450980393, 0.4666666666666667, 0.20784313725490197], [0.9294117647058824, 0.49019607843137253, 0.24705882352941178], [0.9529411764705882, 0.5686274509803921, 0.3843137254901961], [0.9215686274509803, 0.6392156862745098, 0.4980392156862745], [0.9137254901960784, 0.611764705882353, 0.5254901960784314], [0.9254901960784314, 0.5725490196078431, 0.5450980392156862], [0.9215686274509803, 0.5803921568627451, 0.5529411764705883], [0.9098039215686274, 0.6039215686274509, 0.5019607843137255], [0.9411764705882353, 0.5372549019607843, 0.3411764705882353], [0.9607843137254902, 0.42745098039215684, 0.1568627450980392], [0.9686274509803922, 0.396078431372549, 0.1411764705882353], [0.9058823529411765, 0.4235294117647059, 0.27058823529411763], [0.7333333333333333, 0.43137254901960786, 0.396078431372549], [0.5882352941176471, 0.5882352941176471, 0.5725490196078431], [0.37254901960784315, 0.5215686274509804, 0.5254901960784314], [0.34901960784313724, 0.5294117647058824, 0.5764705882352941], [0.3333333333333333, 0.5176470588235295, 0.5843137254901961], [0.34509803921568627, 0.5098039215686274, 0.5647058823529412], [0.34901960784313724, 0.5058823529411764, 0.5450980392156862], [0.32941176470588235, 0.5098039215686274, 0.5529411764705883], [0.30196078431372547, 0.5215686274509804, 0.5764705882352941], [0.3176470588235294, 0.5137254901960784, 0.5725490196078431]], [[0.03137254901960784, 0.0784313725490196, 0.043137254901960784], [0.054901960784313725, 0.11764705882352941, 0.0784313725490196], [0.054901960784313725, 0.1568627450980392, 0.13725490196078433], [0.12549019607843137, 0.26666666666666666, 0.28627450980392155], [0.2549019607843137, 0.4, 0.43529411764705883], [0.32941176470588235, 0.43137254901960786, 0.4470588235294118], [0.5450980392156862, 0.5803921568627451, 0.5568627450980392], [0.6901960784313725, 0.596078431372549, 0.5176470588235295], [0.792156862745098, 0.5058823529411764, 0.41568627450980394], [0.8274509803921568, 0.4745098039215686, 0.36470588235294116], [0.8588235294117647, 0.5568627450980392, 0.4392156862745098], [0.7764705882352941, 0.5058823529411764, 0.44313725490196076], [0.9254901960784314, 0.7803921568627451, 0.7568627450980392], [0.9333333333333333, 0.9098039215686274, 0.8862745098039215], [0.9254901960784314, 0.8666666666666667, 0.8705882352941177], [0.9647058823529412, 0.9333333333333333, 0.9450980392156862], [0.9215686274509803, 0.9254901960784314, 0.9254901960784314], [0.9372549019607843, 0.9215686274509803, 0.8980392156862745], [0.9372549019607843, 0.8235294117647058, 0.7686274509803922], [0.8156862745098039, 0.5294117647058824, 0.43137254901960786], [0.8705882352941177, 0.49411764705882355, 0.3764705882352941], [0.8588235294117647, 0.5019607843137255, 0.39215686274509803], [0.8, 0.5333333333333333, 0.44313725490196076], [0.6470588235294118, 0.6, 0.5490196078431373], [0.4627450980392157, 0.5450980392156862, 0.5333333333333333], [0.4235294117647059, 0.5568627450980392, 0.5803921568627451], [0.38823529411764707, 0.5450980392156862, 0.5803921568627451], [0.39215686274509803, 0.5333333333333333, 0.5529411764705883], [0.40784313725490196, 0.5450980392156862, 0.5450980392156862], [0.3686274509803922, 0.5176470588235295, 0.5294117647058824], [0.3254901960784314, 0.5019607843137255, 0.5333333333333333], [0.30980392156862746, 0.49019607843137253, 0.5333333333333333]], [[0.054901960784313725, 0.10196078431372549, 0.050980392156862744], [0.054901960784313725, 0.11764705882352941, 0.058823529411764705], [0.050980392156862744, 0.1450980392156863, 0.10196078431372549], [0.09411764705882353, 0.20392156862745098, 0.19607843137254902], [0.30980392156862746, 0.396078431372549, 0.403921568627451], [0.5411764705882353, 0.5490196078431373, 0.5372549019607843], [0.6784313725490196, 0.6, 0.5647058823529412], [0.6823529411764706, 0.5333333333333333, 0.4980392156862745], [0.7568627450980392, 0.5176470588235295, 0.4627450980392157], [0.803921568627451, 0.5333333333333333, 0.4196078431372549], [0.8509803921568627, 0.5372549019607843, 0.41568627450980394], [0.8784313725490196, 0.5137254901960784, 0.4470588235294118], [0.8705882352941177, 0.6627450980392157, 0.6078431372549019], [0.803921568627451, 0.788235294117647, 0.7176470588235294], [0.7725490196078432, 0.7215686274509804, 0.6784313725490196], [0.7372549019607844, 0.7490196078431373, 0.6862745098039216], [0.7294117647058823, 0.7647058823529411, 0.6745098039215687], [0.8117647058823529, 0.7568627450980392, 0.6588235294117647], [0.8745098039215686, 0.6941176470588235, 0.6039215686274509], [0.8313725490196079, 0.5254901960784314, 0.44313725490196076], [0.8705882352941177, 0.5176470588235295, 0.43137254901960786], [0.8588235294117647, 0.5411764705882353, 0.43137254901960786], [0.807843137254902, 0.5647058823529412, 0.42745098039215684], [0.6745098039215687, 0.5568627450980392, 0.47058823529411764], [0.6039215686274509, 0.5803921568627451, 0.5411764705882353], [0.5254901960784314, 0.5647058823529412, 0.5568627450980392], [0.4823529411764706, 0.5568627450980392, 0.5568627450980392], [0.5058823529411764, 0.5803921568627451, 0.5607843137254902], [0.5372549019607843, 0.6, 0.5647058823529412], [0.4980392156862745, 0.5647058823529412, 0.5450980392156862], [0.42745098039215684, 0.5215686274509804, 0.5215686274509804], [0.30980392156862746, 0.4666666666666667, 0.49411764705882355]], [[0.07450980392156863, 0.11372549019607843, 0.058823529411764705], [0.09803921568627451, 0.1450980392156863, 0.08235294117647059], [0.10196078431372549, 0.17647058823529413, 0.12549019607843137], [0.20784313725490197, 0.28627450980392155, 0.26666666666666666], [0.49019607843137253, 0.5333333333333333, 0.5215686274509804], [0.6862745098039216, 0.6313725490196078, 0.6039215686274509], [0.7215686274509804, 0.5607843137254902, 0.5098039215686274], [0.8196078431372549, 0.49411764705882355, 0.4196078431372549], [0.7843137254901961, 0.38823529411764707, 0.2901960784313726], [0.7411764705882353, 0.3764705882352941, 0.23921568627450981], [0.8274509803921568, 0.41568627450980394, 0.2980392156862745], [0.9098039215686274, 0.4235294117647059, 0.35294117647058826], [0.9019607843137255, 0.5411764705882353, 0.4196078431372549], [0.8392156862745098, 0.615686274509804, 0.4], [0.8549019607843137, 0.5490196078431373, 0.3137254901960784], [0.7843137254901961, 0.5098039215686274, 0.3568627450980392], [0.7764705882352941, 0.5450980392156862, 0.403921568627451], [0.8627450980392157, 0.5882352941176471, 0.4117647058823529], [0.9098039215686274, 0.596078431372549, 0.41568627450980394], [0.8705882352941177, 0.5098039215686274, 0.3686274509803922], [0.8980392156862745, 0.47058823529411764, 0.3764705882352941], [0.8901960784313725, 0.41568627450980394, 0.3411764705882353], [0.8666666666666667, 0.396078431372549, 0.3137254901960784], [0.6392156862745098, 0.36470588235294116, 0.2784313725490196], [0.6274509803921569, 0.5019607843137255, 0.4392156862745098], [0.6078431372549019, 0.5607843137254902, 0.5294117647058824], [0.5019607843137255, 0.5098039215686274, 0.48627450980392156], [0.5058823529411764, 0.5176470588235295, 0.47058823529411764], [0.5411764705882353, 0.5411764705882353, 0.47843137254901963], [0.5294117647058824, 0.5294117647058824, 0.47843137254901963], [0.49411764705882355, 0.5176470588235295, 0.48627450980392156], [0.34901960784313724, 0.47058823529411764, 0.4823529411764706]], [[0.09803921568627451, 0.1568627450980392, 0.09803921568627451], [0.11764705882352941, 0.16862745098039217, 0.12941176470588237], [0.1843137254901961, 0.24705882352941178, 0.2196078431372549], [0.4117647058823529, 0.48627450980392156, 0.45098039215686275], [0.5725490196078431, 0.611764705882353, 0.5568627450980392], [0.6431372549019608, 0.596078431372549, 0.5294117647058824], [0.6705882352941176, 0.5215686274509804, 0.44313725490196076], [0.803921568627451, 0.5137254901960784, 0.41568627450980394], [0.8313725490196079, 0.4235294117647059, 0.30980392156862746], [0.8862745098039215, 0.41568627450980394, 0.29411764705882354], [0.9019607843137255, 0.403921568627451, 0.2901960784313726], [0.8313725490196079, 0.3803921568627451, 0.27450980392156865], [0.8549019607843137, 0.5058823529411764, 0.3803921568627451], [0.8196078431372549, 0.5176470588235295, 0.3411764705882353], [0.8588235294117647, 0.5372549019607843, 0.33725490196078434], [0.7607843137254902, 0.5294117647058824, 0.36470588235294116], [0.7333333333333333, 0.4823529411764706, 0.34901960784313724], [0.8274509803921568, 0.48627450980392156, 0.3411764705882353], [0.803921568627451, 0.49411764705882355, 0.3333333333333333], [0.8117647058823529, 0.5254901960784314, 0.3764705882352941], [0.8627450980392157, 0.4745098039215686, 0.3686274509803922], [0.8901960784313725, 0.3686274509803922, 0.2823529411764706], [0.8901960784313725, 0.34509803921568627, 0.23137254901960785], [0.7450980392156863, 0.4, 0.29411764705882354], [0.6470588235294118, 0.4666666666666667, 0.396078431372549], [0.6627450980392157, 0.592156862745098, 0.5568627450980392], [0.6235294117647059, 0.6392156862745098, 0.611764705882353], [0.5686274509803921, 0.6, 0.5607843137254902], [0.5215686274509804, 0.5411764705882353, 0.47843137254901963], [0.5372549019607843, 0.5411764705882353, 0.4745098039215686], [0.5137254901960784, 0.5215686274509804, 0.4666666666666667], [0.4666666666666667, 0.5215686274509804, 0.49019607843137253]], [[0.09411764705882353, 0.17254901960784313, 0.12549019607843137], [0.16862745098039217, 0.2235294117647059, 0.19215686274509805], [0.3764705882352941, 0.43137254901960786, 0.396078431372549], [0.5607843137254902, 0.615686274509804, 0.5607843137254902], [0.6, 0.615686274509804, 0.5294117647058824], [0.6549019607843137, 0.5843137254901961, 0.48627450980392156], [0.6823529411764706, 0.5176470588235295, 0.41568627450980394], [0.8431372549019608, 0.5607843137254902, 0.4627450980392157], [0.9372549019607843, 0.5450980392156862, 0.4392156862745098], [0.9921568627450981, 0.4823529411764706, 0.37254901960784315], [0.9764705882352941, 0.47843137254901963, 0.37254901960784315], [0.8705882352941177, 0.48627450980392156, 0.38823529411764707], [0.8352941176470589, 0.592156862745098, 0.4980392156862745], [0.9098039215686274, 0.7372549019607844, 0.6352941176470588], [0.8980392156862745, 0.7294117647058823, 0.6196078431372549], [0.8156862745098039, 0.6196078431372549, 0.5098039215686274], [0.7254901960784313, 0.39215686274509803, 0.30196078431372547], [0.8823529411764706, 0.45098039215686275, 0.34901960784313724], [0.8784313725490196, 0.5098039215686274, 0.3686274509803922], [0.9098039215686274, 0.6235294117647059, 0.4627450980392157], [0.8627450980392157, 0.4666666666666667, 0.32941176470588235], [0.9372549019607843, 0.43529411764705883, 0.2980392156862745], [0.9450980392156862, 0.44313725490196076, 0.27058823529411763], [0.9176470588235294, 0.6, 0.4627450980392157], [0.7058823529411765, 0.5254901960784314, 0.4470588235294118], [0.6274509803921569, 0.5647058823529412, 0.5294117647058824], [0.6078431372549019, 0.6313725490196078, 0.611764705882353], [0.611764705882353, 0.6588235294117647, 0.6235294117647059], [0.5176470588235295, 0.5450980392156862, 0.49019607843137253], [0.5372549019607843, 0.5490196078431373, 0.49019607843137253], [0.5294117647058824, 0.5372549019607843, 0.48627450980392156], [0.5215686274509804, 0.5333333333333333, 0.47843137254901963]], [[0.1450980392156863, 0.24313725490196078, 0.21176470588235294], [0.28627450980392155, 0.34901960784313724, 0.3176470588235294], [0.5333333333333333, 0.5764705882352941, 0.5372549019607843], [0.5529411764705883, 0.5882352941176471, 0.5215686274509804], [0.6078431372549019, 0.6039215686274509, 0.5098039215686274], [0.6588235294117647, 0.5764705882352941, 0.47058823529411764], [0.6980392156862745, 0.5254901960784314, 0.4196078431372549], [0.8431372549019608, 0.596078431372549, 0.48627450980392156], [0.9254901960784314, 0.5843137254901961, 0.47058823529411764], [0.9372549019607843, 0.5098039215686274, 0.39215686274509803], [0.9372549019607843, 0.5607843137254902, 0.4588235294117647], [0.9137254901960784, 0.6823529411764706, 0.6039215686274509], [0.7490196078431373, 0.6352941176470588, 0.5725490196078431], [0.8901960784313725, 0.8431372549019608, 0.788235294117647], [0.8980392156862745, 0.8509803921568627, 0.788235294117647], [0.8823529411764706, 0.7529411764705882, 0.6627450980392157], [0.7843137254901961, 0.4745098039215686, 0.38823529411764707], [0.9215686274509803, 0.5098039215686274, 0.4117647058823529], [0.9450980392156862, 0.5843137254901961, 0.45098039215686275], [0.8745098039215686, 0.5372549019607843, 0.38823529411764707], [0.8392156862745098, 0.39215686274509803, 0.2627450980392157], [0.9764705882352941, 0.43137254901960786, 0.29411764705882354], [0.9764705882352941, 0.44313725490196076, 0.26666666666666666], [0.9333333333333333, 0.6078431372549019, 0.4627450980392157], [0.6470588235294118, 0.48627450980392156, 0.4], [0.596078431372549, 0.5411764705882353, 0.5058823529411764], [0.5725490196078431, 0.6039215686274509, 0.5843137254901961], [0.5607843137254902, 0.611764705882353, 0.5843137254901961], [0.596078431372549, 0.6313725490196078, 0.5882352941176471], [0.5058823529411764, 0.5215686274509804, 0.47843137254901963], [0.5411764705882353, 0.5529411764705883, 0.5176470588235295], [0.5450980392156862, 0.5411764705882353, 0.47843137254901963]], [[0.23529411764705882, 0.34509803921568627, 0.3215686274509804], [0.42745098039215684, 0.49411764705882355, 0.4666666666666667], [0.5647058823529412, 0.611764705882353, 0.5725490196078431], [0.5333333333333333, 0.5803921568627451, 0.5137254901960784], [0.592156862745098, 0.611764705882353, 0.5294117647058824], [0.6352941176470588, 0.5882352941176471, 0.5058823529411764], [0.6588235294117647, 0.5333333333333333, 0.4627450980392157], [0.8627450980392157, 0.6431372549019608, 0.5490196078431373], [0.8862745098039215, 0.5764705882352941, 0.4627450980392157], [0.8941176470588236, 0.5176470588235295, 0.39215686274509803], [0.9176470588235294, 0.5882352941176471, 0.47058823529411764], [0.9058823529411765, 0.6941176470588235, 0.596078431372549], [0.7764705882352941, 0.6588235294117647, 0.5843137254901961], [0.8745098039215686, 0.796078431372549, 0.7294117647058823], [0.8392156862745098, 0.7411764705882353, 0.6666666666666666], [0.7215686274509804, 0.5843137254901961, 0.48627450980392156], [0.7019607843137254, 0.40784313725490196, 0.3137254901960784], [0.8549019607843137, 0.4392156862745098, 0.34509803921568627], [0.8745098039215686, 0.4745098039215686, 0.3568627450980392], [0.8470588235294118, 0.47843137254901963, 0.35294117647058826], [0.803921568627451, 0.3568627450980392, 0.25098039215686274], [0.9294117647058824, 0.39215686274509803, 0.28627450980392155], [0.9607843137254902, 0.44313725490196076, 0.2901960784313726], [0.8745098039215686, 0.5568627450980392, 0.4117647058823529], [0.7215686274509804, 0.5686274509803921, 0.4745098039215686], [0.596078431372549, 0.5490196078431373, 0.5058823529411764], [0.5568627450980392, 0.6, 0.5843137254901961], [0.5647058823529412, 0.6235294117647059, 0.6039215686274509], [0.5686274509803921, 0.611764705882353, 0.5843137254901961], [0.5607843137254902, 0.5843137254901961, 0.5607843137254902], [0.4627450980392157, 0.47843137254901963, 0.4627450980392157], [0.5137254901960784, 0.5215686274509804, 0.47058823529411764]], [[0.3254901960784314, 0.42745098039215684, 0.4117647058823529], [0.5254901960784314, 0.5843137254901961, 0.5686274509803921], [0.5372549019607843, 0.5843137254901961, 0.5529411764705883], [0.5372549019607843, 0.5882352941176471, 0.5411764705882353], [0.5568627450980392, 0.6, 0.5450980392156862], [0.5803921568627451, 0.5843137254901961, 0.5333333333333333], [0.6274509803921569, 0.5725490196078431, 0.5333333333333333], [0.7490196078431373, 0.5843137254901961, 0.5254901960784314], [0.792156862745098, 0.5372549019607843, 0.45098039215686275], [0.8431372549019608, 0.5372549019607843, 0.43529411764705883], [0.8470588235294118, 0.5450980392156862, 0.4470588235294118], [0.8117647058823529, 0.5803921568627451, 0.49411764705882355], [0.807843137254902, 0.6313725490196078, 0.5607843137254902], [0.788235294117647, 0.6235294117647059, 0.5490196078431373], [0.7294117647058823, 0.5294117647058824, 0.45098039215686275], [0.5843137254901961, 0.3843137254901961, 0.3058823529411765], [0.6313725490196078, 0.3254901960784314, 0.2627450980392157], [0.807843137254902, 0.403921568627451, 0.3411764705882353], [0.8235294117647058, 0.4745098039215686, 0.38823529411764707], [0.7803921568627451, 0.5058823529411764, 0.4117647058823529], [0.6352941176470588, 0.3333333333333333, 0.25098039215686274], [0.7411764705882353, 0.4, 0.30980392156862746], [0.8117647058823529, 0.49411764705882355, 0.3686274509803922], [0.7568627450980392, 0.5372549019607843, 0.41568627450980394], [0.7019607843137254, 0.5764705882352941, 0.49019607843137253], [0.5843137254901961, 0.5568627450980392, 0.5137254901960784], [0.5450980392156862, 0.5843137254901961, 0.5725490196078431], [0.5686274509803921, 0.6235294117647059, 0.6078431372549019], [0.5686274509803921, 0.6078431372549019, 0.5843137254901961], [0.6078431372549019, 0.6313725490196078, 0.611764705882353], [0.47058823529411764, 0.49411764705882355, 0.48627450980392156], [0.4235294117647059, 0.45098039215686275, 0.41568627450980394]], [[0.43137254901960786, 0.5019607843137255, 0.5019607843137255], [0.5803921568627451, 0.6313725490196078, 0.6313725490196078], [0.5490196078431373, 0.5803921568627451, 0.5725490196078431], [0.5686274509803921, 0.596078431372549, 0.5764705882352941], [0.5607843137254902, 0.592156862745098, 0.5568627450980392], [0.5450980392156862, 0.5764705882352941, 0.5333333333333333], [0.5568627450980392, 0.592156862745098, 0.5411764705882353], [0.592156862745098, 0.6, 0.5607843137254902], [0.6078431372549019, 0.596078431372549, 0.5607843137254902], [0.6392156862745098, 0.615686274509804, 0.5803921568627451], [0.6549019607843137, 0.6313725490196078, 0.596078431372549], [0.6352941176470588, 0.6196078431372549, 0.5882352941176471], [0.5725490196078431, 0.5686274509803921, 0.5372549019607843], [0.5647058823529412, 0.5568627450980392, 0.5215686274509804], [0.5254901960784314, 0.5137254901960784, 0.47843137254901963], [0.6039215686274509, 0.5803921568627451, 0.5450980392156862], [0.49019607843137253, 0.4470588235294118, 0.41568627450980394], [0.5529411764705883, 0.4980392156862745, 0.4666666666666667], [0.6, 0.5568627450980392, 0.5254901960784314], [0.5215686274509804, 0.4980392156862745, 0.47058823529411764], [0.4196078431372549, 0.403921568627451, 0.3764705882352941], [0.6196078431372549, 0.6, 0.5764705882352941], [0.6352941176470588, 0.6235294117647059, 0.596078431372549], [0.611764705882353, 0.6078431372549019, 0.5764705882352941], [0.6039215686274509, 0.6078431372549019, 0.5803921568627451], [0.5843137254901961, 0.6039215686274509, 0.5882352941176471], [0.5882352941176471, 0.6196078431372549, 0.6039215686274509], [0.6, 0.6313725490196078, 0.615686274509804], [0.611764705882353, 0.6431372549019608, 0.6274509803921569], [0.6039215686274509, 0.6313725490196078, 0.615686274509804], [0.6078431372549019, 0.6392156862745098, 0.6235294117647059], [0.4196078431372549, 0.4588235294117647, 0.43529411764705883]], [[0.5372549019607843, 0.6, 0.6], [0.4666666666666667, 0.5137254901960784, 0.5137254901960784], [0.4666666666666667, 0.49411764705882355, 0.49411764705882355], [0.5490196078431373, 0.5686274509803921, 0.5607843137254902], [0.5686274509803921, 0.592156862745098, 0.5686274509803921], [0.5490196078431373, 0.5843137254901961, 0.5529411764705883], [0.5450980392156862, 0.592156862745098, 0.5529411764705883], [0.5450980392156862, 0.596078431372549, 0.5764705882352941], [0.5137254901960784, 0.5647058823529412, 0.5607843137254902], [0.5254901960784314, 0.5803921568627451, 0.5725490196078431], [0.5176470588235295, 0.5725490196078431, 0.5647058823529412], [0.49411764705882355, 0.5450980392156862, 0.5372549019607843], [0.36470588235294116, 0.41568627450980394, 0.40784313725490196], [0.36470588235294116, 0.41568627450980394, 0.40784313725490196], [0.39215686274509803, 0.44313725490196076, 0.4392156862745098], [0.5019607843137255, 0.5372549019607843, 0.5372549019607843], [0.38823529411764707, 0.4235294117647059, 0.4235294117647059], [0.396078431372549, 0.43529411764705883, 0.4392156862745098], [0.38823529411764707, 0.43137254901960786, 0.4392156862745098], [0.28627450980392155, 0.32941176470588235, 0.3411764705882353], [0.2980392156862745, 0.34901960784313724, 0.36470588235294116], [0.4470588235294118, 0.5019607843137255, 0.5215686274509804], [0.43529411764705883, 0.49019607843137253, 0.5137254901960784], [0.40784313725490196, 0.47058823529411764, 0.48627450980392156], [0.40784313725490196, 0.47058823529411764, 0.4823529411764706], [0.4, 0.4588235294117647, 0.47058823529411764], [0.403921568627451, 0.4627450980392157, 0.4745098039215686], [0.4117647058823529, 0.47058823529411764, 0.4823529411764706], [0.41568627450980394, 0.4745098039215686, 0.48627450980392156], [0.38823529411764707, 0.45098039215686275, 0.4588235294117647], [0.45098039215686275, 0.5098039215686274, 0.5215686274509804], [0.3843137254901961, 0.4392156862745098, 0.43137254901960786]], [[0.592156862745098, 0.6549019607843137, 0.6549019607843137], [0.3843137254901961, 0.43137254901960786, 0.43137254901960786], [0.36470588235294116, 0.39215686274509803, 0.396078431372549], [0.4666666666666667, 0.4823529411764706, 0.48627450980392156], [0.5725490196078431, 0.596078431372549, 0.592156862745098], [0.5607843137254902, 0.592156862745098, 0.5843137254901961], [0.5411764705882353, 0.5843137254901961, 0.5686274509803921], [0.4392156862745098, 0.4980392156862745, 0.5058823529411764], [0.2823529411764706, 0.34901960784313724, 0.3686274509803922], [0.24313725490196078, 0.3137254901960784, 0.3333333333333333], [0.23137254901960785, 0.30196078431372547, 0.3215686274509804], [0.2235294117647059, 0.2901960784313726, 0.30980392156862746], [0.17254901960784313, 0.23921568627450981, 0.25882352941176473], [0.17254901960784313, 0.23921568627450981, 0.25882352941176473], [0.19215686274509805, 0.25882352941176473, 0.2823529411764706], [0.2196078431372549, 0.2823529411764706, 0.30196078431372547], [0.1803921568627451, 0.23921568627450981, 0.26666666666666666], [0.19607843137254902, 0.25882352941176473, 0.28627450980392155], [0.18823529411764706, 0.25882352941176473, 0.28627450980392155], [0.14901960784313725, 0.2196078431372549, 0.25882352941176473], [0.14901960784313725, 0.22745098039215686, 0.26666666666666666], [0.16862745098039217, 0.25098039215686274, 0.29411764705882354], [0.17254901960784313, 0.25882352941176473, 0.30196078431372547], [0.15294117647058825, 0.23921568627450981, 0.28627450980392155], [0.15294117647058825, 0.23921568627450981, 0.28627450980392155], [0.15294117647058825, 0.24313725490196078, 0.2901960784313726], [0.1568627450980392, 0.24313725490196078, 0.2901960784313726], [0.1568627450980392, 0.24313725490196078, 0.2901960784313726], [0.1411764705882353, 0.23137254901960785, 0.2784313725490196], [0.13333333333333333, 0.2196078431372549, 0.27058823529411763], [0.2235294117647059, 0.30980392156862746, 0.3568627450980392], [0.29411764705882354, 0.36470588235294116, 0.3843137254901961]], [[0.49411764705882355, 0.5529411764705883, 0.5529411764705883], [0.6196078431372549, 0.6627450980392157, 0.6666666666666666], [0.3333333333333333, 0.35294117647058826, 0.36470588235294116], [0.4, 0.41568627450980394, 0.42745098039215684], [0.5372549019607843, 0.5568627450980392, 0.5686274509803921], [0.5686274509803921, 0.596078431372549, 0.6039215686274509], [0.47843137254901963, 0.5176470588235295, 0.5254901960784314], [0.2627450980392157, 0.3411764705882353, 0.37254901960784315], [0.1607843137254902, 0.25098039215686274, 0.29411764705882354], [0.15294117647058825, 0.24313725490196078, 0.2901960784313726], [0.14901960784313725, 0.23921568627450981, 0.2823529411764706], [0.1450980392156863, 0.23529411764705882, 0.2823529411764706], [0.14901960784313725, 0.23921568627450981, 0.2823529411764706], [0.14901960784313725, 0.23921568627450981, 0.2823529411764706], [0.1411764705882353, 0.23137254901960785, 0.27450980392156865], [0.14901960784313725, 0.2235294117647059, 0.25882352941176473], [0.10588235294117647, 0.17647058823529413, 0.21176470588235294], [0.13725490196078433, 0.21176470588235294, 0.24705882352941178], [0.1411764705882353, 0.2196078431372549, 0.25882352941176473], [0.15294117647058825, 0.23529411764705882, 0.2823529411764706], [0.1450980392156863, 0.23137254901960785, 0.2823529411764706], [0.15294117647058825, 0.24313725490196078, 0.29411764705882354], [0.14901960784313725, 0.24313725490196078, 0.29411764705882354], [0.13725490196078433, 0.23921568627450981, 0.2980392156862745], [0.13725490196078433, 0.23921568627450981, 0.30196078431372547], [0.13725490196078433, 0.23921568627450981, 0.30196078431372547], [0.1411764705882353, 0.23921568627450981, 0.30196078431372547], [0.13725490196078433, 0.23529411764705882, 0.30196078431372547], [0.12549019607843137, 0.2235294117647059, 0.2901960784313726], [0.15294117647058825, 0.2549019607843137, 0.3176470588235294], [0.20784313725490197, 0.3058823529411765, 0.3686274509803922], [0.2901960784313726, 0.36470588235294116, 0.40784313725490196]], [[0.27450980392156865, 0.3411764705882353, 0.33725490196078434], [0.6823529411764706, 0.7372549019607844, 0.7372549019607844], [0.5058823529411764, 0.5450980392156862, 0.5607843137254902], [0.34509803921568627, 0.37254901960784315, 0.396078431372549], [0.3843137254901961, 0.4117647058823529, 0.4392156862745098], [0.43529411764705883, 0.4666666666666667, 0.49411764705882355], [0.30196078431372547, 0.3411764705882353, 0.3686274509803922], [0.1607843137254902, 0.24313725490196078, 0.29411764705882354], [0.1450980392156863, 0.24705882352941178, 0.30980392156862746], [0.14901960784313725, 0.25098039215686274, 0.3137254901960784], [0.1411764705882353, 0.24313725490196078, 0.3058823529411765], [0.12549019607843137, 0.22745098039215686, 0.2901960784313726], [0.12549019607843137, 0.22745098039215686, 0.2901960784313726], [0.13333333333333333, 0.23137254901960785, 0.29411764705882354], [0.13333333333333333, 0.22745098039215686, 0.2901960784313726], [0.16470588235294117, 0.23921568627450981, 0.2823529411764706], [0.12156862745098039, 0.19607843137254902, 0.2235294117647059], [0.1411764705882353, 0.21568627450980393, 0.24705882352941178], [0.1450980392156863, 0.2235294117647059, 0.25882352941176473], [0.15294117647058825, 0.23137254901960785, 0.2784313725490196], [0.1411764705882353, 0.22745098039215686, 0.2784313725490196], [0.1450980392156863, 0.23529411764705882, 0.2901960784313726], [0.1450980392156863, 0.23529411764705882, 0.2901960784313726], [0.13725490196078433, 0.22745098039215686, 0.2901960784313726], [0.13725490196078433, 0.23137254901960785, 0.30196078431372547], [0.12941176470588237, 0.2235294117647059, 0.29411764705882354], [0.12941176470588237, 0.2235294117647059, 0.29411764705882354], [0.11764705882352941, 0.21568627450980393, 0.28627450980392155], [0.12156862745098039, 0.2196078431372549, 0.2901960784313726], [0.1803921568627451, 0.27450980392156865, 0.34901960784313724], [0.24313725490196078, 0.33725490196078434, 0.40784313725490196], [0.16862745098039217, 0.24313725490196078, 0.29411764705882354]], [[0.11764705882352941, 0.19607843137254902, 0.19607843137254902], [0.25098039215686274, 0.32941176470588235, 0.33725490196078434], [0.5607843137254902, 0.6313725490196078, 0.6588235294117647], [0.37254901960784315, 0.4470588235294118, 0.48627450980392156], [0.18823529411764706, 0.25882352941176473, 0.3058823529411765], [0.11764705882352941, 0.1803921568627451, 0.23137254901960785], [0.11372549019607843, 0.17647058823529413, 0.22745098039215686], [0.12549019607843137, 0.2196078431372549, 0.2823529411764706], [0.1411764705882353, 0.25098039215686274, 0.3176470588235294], [0.14901960784313725, 0.2549019607843137, 0.3215686274509804], [0.1450980392156863, 0.24705882352941178, 0.3137254901960784], [0.12941176470588237, 0.22745098039215686, 0.2980392156862745], [0.12549019607843137, 0.2196078431372549, 0.2901960784313726], [0.12941176470588237, 0.21568627450980393, 0.2901960784313726], [0.1411764705882353, 0.2235294117647059, 0.29411764705882354], [0.16470588235294117, 0.25098039215686274, 0.2901960784313726], [0.1803921568627451, 0.26666666666666666, 0.29411764705882354], [0.17647058823529413, 0.2627450980392157, 0.29411764705882354], [0.12941176470588237, 0.21568627450980393, 0.25882352941176473], [0.1450980392156863, 0.22745098039215686, 0.2784313725490196], [0.1411764705882353, 0.2235294117647059, 0.2823529411764706], [0.1411764705882353, 0.2235294117647059, 0.2901960784313726], [0.14901960784313725, 0.23137254901960785, 0.30196078431372547], [0.1411764705882353, 0.23137254901960785, 0.2980392156862745], [0.12941176470588237, 0.2235294117647059, 0.2901960784313726], [0.11764705882352941, 0.21568627450980393, 0.28627450980392155], [0.09803921568627451, 0.19607843137254902, 0.26666666666666666], [0.09803921568627451, 0.19607843137254902, 0.27058823529411763], [0.16862745098039217, 0.27058823529411763, 0.34509803921568627], [0.3058823529411765, 0.40784313725490196, 0.4823529411764706], [0.27058823529411763, 0.37254901960784315, 0.44313725490196076], [0.07450980392156863, 0.13725490196078433, 0.16862745098039217]], [[0.06666666666666667, 0.13725490196078433, 0.14901960784313725], [0.0392156862745098, 0.11372549019607843, 0.13333333333333333], [0.12549019607843137, 0.2, 0.22745098039215686], [0.2901960784313726, 0.3764705882352941, 0.40784313725490196], [0.3137254901960784, 0.4117647058823529, 0.4549019607843137], [0.21176470588235294, 0.3176470588235294, 0.36470588235294116], [0.10980392156862745, 0.2235294117647059, 0.27450980392156865], [0.11372549019607843, 0.23529411764705882, 0.28627450980392155], [0.08235294117647059, 0.20784313725490197, 0.25882352941176473], [0.10588235294117647, 0.22745098039215686, 0.2784313725490196], [0.12156862745098039, 0.23921568627450981, 0.29411764705882354], [0.1411764705882353, 0.25098039215686274, 0.30980392156862746], [0.13725490196078433, 0.24705882352941178, 0.3058823529411765], [0.13725490196078433, 0.23921568627450981, 0.2980392156862745], [0.13725490196078433, 0.23529411764705882, 0.29411764705882354], [0.1450980392156863, 0.23529411764705882, 0.2823529411764706], [0.1568627450980392, 0.24705882352941178, 0.2823529411764706], [0.14901960784313725, 0.23921568627450981, 0.2823529411764706], [0.12549019607843137, 0.21176470588235294, 0.2627450980392157], [0.1411764705882353, 0.22745098039215686, 0.2823529411764706], [0.13725490196078433, 0.2235294117647059, 0.2784313725490196], [0.13725490196078433, 0.2235294117647059, 0.2823529411764706], [0.1411764705882353, 0.22745098039215686, 0.2901960784313726], [0.12941176470588237, 0.23529411764705882, 0.29411764705882354], [0.12156862745098039, 0.23529411764705882, 0.2901960784313726], [0.1450980392156863, 0.2549019607843137, 0.30980392156862746], [0.1568627450980392, 0.27058823529411763, 0.3215686274509804], [0.21568627450980393, 0.32941176470588235, 0.3843137254901961], [0.3176470588235294, 0.42745098039215684, 0.4823529411764706], [0.25882352941176473, 0.36470588235294116, 0.4196078431372549], [0.0784313725490196, 0.17647058823529413, 0.22745098039215686], [0.06666666666666667, 0.12549019607843137, 0.12941176470588237]], [[0.06666666666666667, 0.12941176470588237, 0.14901960784313725], [0.03137254901960784, 0.09411764705882353, 0.10588235294117647], [0.03137254901960784, 0.09411764705882353, 0.10196078431372549], [0.047058823529411764, 0.12156862745098039, 0.12941176470588237], [0.15294117647058825, 0.24313725490196078, 0.2627450980392157], [0.30196078431372547, 0.4235294117647059, 0.4588235294117647], [0.3411764705882353, 0.4823529411764706, 0.5333333333333333], [0.3568627450980392, 0.49019607843137253, 0.5372549019607843], [0.12941176470588237, 0.25882352941176473, 0.2980392156862745], [0.09019607843137255, 0.21176470588235294, 0.2549019607843137], [0.1411764705882353, 0.2627450980392157, 0.30980392156862746], [0.1450980392156863, 0.25882352941176473, 0.3058823529411765], [0.1450980392156863, 0.2549019607843137, 0.3058823529411765], [0.13725490196078433, 0.24313725490196078, 0.29411764705882354], [0.1411764705882353, 0.24313725490196078, 0.29411764705882354], [0.14901960784313725, 0.23529411764705882, 0.2901960784313726], [0.16470588235294117, 0.25098039215686274, 0.30196078431372547], [0.14901960784313725, 0.23529411764705882, 0.28627450980392155], [0.1568627450980392, 0.24313725490196078, 0.29411764705882354], [0.1607843137254902, 0.24705882352941178, 0.2980392156862745], [0.16862745098039217, 0.2549019607843137, 0.30196078431372547], [0.17647058823529413, 0.2627450980392157, 0.30980392156862746], [0.1803921568627451, 0.26666666666666666, 0.3176470588235294], [0.16470588235294117, 0.2784313725490196, 0.3254901960784314], [0.12941176470588237, 0.25098039215686274, 0.2980392156862745], [0.1803921568627451, 0.29411764705882354, 0.33725490196078434], [0.30980392156862746, 0.4235294117647059, 0.4627450980392157], [0.32941176470588235, 0.43529411764705883, 0.4745098039215686], [0.1568627450980392, 0.2549019607843137, 0.2901960784313726], [0.0392156862745098, 0.12941176470588237, 0.1607843137254902], [0.03529411764705882, 0.12156862745098039, 0.1450980392156863], [0.027450980392156862, 0.0784313725490196, 0.06274509803921569]], [[0.03529411764705882, 0.11372549019607843, 0.10196078431372549], [0.023529411764705882, 0.0784313725490196, 0.054901960784313725], [0.03137254901960784, 0.07058823529411765, 0.0392156862745098], [0.043137254901960784, 0.08235294117647059, 0.058823529411764705], [0.043137254901960784, 0.09411764705882353, 0.09019607843137255], [0.054901960784313725, 0.13725490196078433, 0.1607843137254902], [0.13725490196078433, 0.24313725490196078, 0.28627450980392155], [0.2549019607843137, 0.3686274509803922, 0.4117647058823529], [0.1803921568627451, 0.28627450980392155, 0.3333333333333333], [0.24313725490196078, 0.34509803921568627, 0.39215686274509803], [0.27450980392156865, 0.37254901960784315, 0.4196078431372549], [0.16862745098039217, 0.25882352941176473, 0.3058823529411765], [0.1568627450980392, 0.23921568627450981, 0.2901960784313726], [0.1450980392156863, 0.2235294117647059, 0.2784313725490196], [0.15294117647058825, 0.22745098039215686, 0.2823529411764706], [0.1450980392156863, 0.2235294117647059, 0.2901960784313726], [0.14901960784313725, 0.23137254901960785, 0.2980392156862745], [0.1411764705882353, 0.2235294117647059, 0.2823529411764706], [0.1411764705882353, 0.22745098039215686, 0.2823529411764706], [0.14901960784313725, 0.23529411764705882, 0.28627450980392155], [0.14901960784313725, 0.23529411764705882, 0.2784313725490196], [0.1607843137254902, 0.25098039215686274, 0.28627450980392155], [0.1843137254901961, 0.27450980392156865, 0.3058823529411765], [0.24705882352941178, 0.34509803921568627, 0.396078431372549], [0.2196078431372549, 0.3215686274509804, 0.37254901960784315], [0.21176470588235294, 0.3058823529411765, 0.35294117647058826], [0.17647058823529413, 0.2549019607843137, 0.2980392156862745], [0.09019607843137255, 0.1568627450980392, 0.19215686274509805], [0.047058823529411764, 0.10980392156862745, 0.13333333333333333], [0.043137254901960784, 0.09803921568627451, 0.11372549019607843], [0.0392156862745098, 0.08627450980392157, 0.09411764705882353], [0.03137254901960784, 0.06274509803921569, 0.047058823529411764]], [[0.03137254901960784, 0.10588235294117647, 0.0784313725490196], [0.027450980392156862, 0.0784313725490196, 0.03529411764705882], [0.03137254901960784, 0.058823529411764705, 0.00784313725490196], [0.03529411764705882, 0.054901960784313725, 0.0196078431372549], [0.058823529411764705, 0.0784313725490196, 0.058823529411764705], [0.06666666666666667, 0.10980392156862745, 0.11372549019607843], [0.06666666666666667, 0.12549019607843137, 0.14901960784313725], [0.07450980392156863, 0.1450980392156863, 0.17647058823529413], [0.050980392156862744, 0.11764705882352941, 0.15294117647058825], [0.1607843137254902, 0.22745098039215686, 0.2627450980392157], [0.24313725490196078, 0.3137254901960784, 0.35294117647058826], [0.22745098039215686, 0.29411764705882354, 0.3411764705882353], [0.22745098039215686, 0.2980392156862745, 0.34901960784313724], [0.20392156862745098, 0.27058823529411763, 0.3254901960784314], [0.17647058823529413, 0.24705882352941178, 0.2980392156862745], [0.15294117647058825, 0.23529411764705882, 0.29411764705882354], [0.12941176470588237, 0.21568627450980393, 0.2784313725490196], [0.13725490196078433, 0.2235294117647059, 0.2823529411764706], [0.13725490196078433, 0.22745098039215686, 0.2784313725490196], [0.14901960784313725, 0.23921568627450981, 0.2823529411764706], [0.16862745098039217, 0.2549019607843137, 0.2901960784313726], [0.18823529411764706, 0.2784313725490196, 0.3058823529411765], [0.21176470588235294, 0.30196078431372547, 0.32941176470588235], [0.22745098039215686, 0.30196078431372547, 0.3411764705882353], [0.15294117647058825, 0.21568627450980393, 0.25882352941176473], [0.08627450980392157, 0.1450980392156863, 0.1843137254901961], [0.06274509803921569, 0.10588235294117647, 0.1411764705882353], [0.050980392156862744, 0.08627450980392157, 0.10980392156862745], [0.058823529411764705, 0.09019607843137255, 0.10588235294117647], [0.03137254901960784, 0.050980392156862744, 0.06274509803921569], [0.043137254901960784, 0.058823529411764705, 0.06666666666666667], [0.054901960784313725, 0.07450980392156863, 0.06666666666666667]], [[0.047058823529411764, 0.09019607843137255, 0.08627450980392157], [0.03137254901960784, 0.06666666666666667, 0.047058823529411764], [0.050980392156862744, 0.08627450980392157, 0.054901960784313725], [0.07058823529411765, 0.10196078431372549, 0.06274509803921569], [0.058823529411764705, 0.08235294117647059, 0.050980392156862744], [0.047058823529411764, 0.07058823529411765, 0.047058823529411764], [0.06666666666666667, 0.09019607843137255, 0.07450980392156863], [0.0392156862745098, 0.06666666666666667, 0.058823529411764705], [0.0392156862745098, 0.07450980392156863, 0.07058823529411765], [0.043137254901960784, 0.08627450980392157, 0.08627450980392157], [0.047058823529411764, 0.10196078431372549, 0.11372549019607843], [0.08627450980392157, 0.15294117647058825, 0.17254901960784313], [0.13725490196078433, 0.20784313725490197, 0.23921568627450981], [0.1803921568627451, 0.26666666666666666, 0.30196078431372547], [0.20784313725490197, 0.2980392156862745, 0.3411764705882353], [0.21568627450980393, 0.3058823529411765, 0.33725490196078434], [0.1843137254901961, 0.27058823529411763, 0.30196078431372547], [0.17647058823529413, 0.25882352941176473, 0.2901960784313726], [0.17254901960784313, 0.2549019607843137, 0.28627450980392155], [0.20784313725490197, 0.2901960784313726, 0.3176470588235294], [0.1803921568627451, 0.2627450980392157, 0.2901960784313726], [0.14901960784313725, 0.23137254901960785, 0.25882352941176473], [0.09411764705882353, 0.17254901960784313, 0.2], [0.06274509803921569, 0.10588235294117647, 0.11764705882352941], [0.06274509803921569, 0.08235294117647059, 0.08235294117647059], [0.047058823529411764, 0.06666666666666667, 0.07058823529411765], [0.043137254901960784, 0.06274509803921569, 0.06666666666666667], [0.0392156862745098, 0.054901960784313725, 0.058823529411764705], [0.03529411764705882, 0.050980392156862744, 0.050980392156862744], [0.047058823529411764, 0.06274509803921569, 0.06274509803921569], [0.0392156862745098, 0.054901960784313725, 0.054901960784313725], [0.06274509803921569, 0.08235294117647059, 0.07058823529411765]], [[0.07450980392156863, 0.11372549019607843, 0.11372549019607843], [0.06666666666666667, 0.10588235294117647, 0.08627450980392157], [0.06274509803921569, 0.10196078431372549, 0.07058823529411765], [0.043137254901960784, 0.0784313725490196, 0.03529411764705882], [0.0196078431372549, 0.047058823529411764, 0.01568627450980392], [0.023529411764705882, 0.043137254901960784, 0.0196078431372549], [0.06274509803921569, 0.0784313725490196, 0.06274509803921569], [0.027450980392156862, 0.043137254901960784, 0.0196078431372549], [0.027450980392156862, 0.043137254901960784, 0.0196078431372549], [0.03529411764705882, 0.054901960784313725, 0.03529411764705882], [0.03137254901960784, 0.06274509803921569, 0.047058823529411764], [0.03137254901960784, 0.06666666666666667, 0.06274509803921569], [0.027450980392156862, 0.07450980392156863, 0.0784313725490196], [0.047058823529411764, 0.10196078431372549, 0.10980392156862745], [0.07450980392156863, 0.13725490196078433, 0.14901960784313725], [0.11372549019607843, 0.16862745098039217, 0.18823529411764706], [0.1607843137254902, 0.20784313725490197, 0.23137254901960785], [0.17254901960784313, 0.2196078431372549, 0.24313725490196078], [0.12941176470588237, 0.17647058823529413, 0.2], [0.09411764705882353, 0.1411764705882353, 0.16470588235294117], [0.058823529411764705, 0.10588235294117647, 0.12941176470588237], [0.0392156862745098, 0.08235294117647059, 0.10980392156862745], [0.027450980392156862, 0.07450980392156863, 0.09803921568627451], [0.03529411764705882, 0.058823529411764705, 0.06274509803921569], [0.03137254901960784, 0.047058823529411764, 0.0392156862745098], [0.03137254901960784, 0.047058823529411764, 0.0392156862745098], [0.023529411764705882, 0.043137254901960784, 0.03137254901960784], [0.0196078431372549, 0.0392156862745098, 0.027450980392156862], [0.0196078431372549, 0.0392156862745098, 0.027450980392156862], [0.047058823529411764, 0.06274509803921569, 0.054901960784313725], [0.050980392156862744, 0.07058823529411765, 0.058823529411764705], [0.054901960784313725, 0.08627450980392157, 0.07450980392156863]], [[0.07058823529411765, 0.11372549019607843, 0.10980392156862745], [0.027450980392156862, 0.07450980392156863, 0.050980392156862744], [0.0196078431372549, 0.058823529411764705, 0.027450980392156862], [0.0196078431372549, 0.054901960784313725, 0.011764705882352941], [0.0196078431372549, 0.047058823529411764, 0.011764705882352941], [0.0196078431372549, 0.0392156862745098, 0.01568627450980392], [0.054901960784313725, 0.07450980392156863, 0.054901960784313725], [0.047058823529411764, 0.054901960784313725, 0.027450980392156862], [0.027450980392156862, 0.03137254901960784, 0.0], [0.027450980392156862, 0.03137254901960784, 0.00392156862745098], [0.0196078431372549, 0.027450980392156862, 0.00392156862745098], [0.0196078431372549, 0.03137254901960784, 0.00784313725490196], [0.027450980392156862, 0.047058823529411764, 0.027450980392156862], [0.0392156862745098, 0.058823529411764705, 0.043137254901960784], [0.043137254901960784, 0.06666666666666667, 0.050980392156862744], [0.0392156862745098, 0.058823529411764705, 0.058823529411764705], [0.03529411764705882, 0.054901960784313725, 0.06274509803921569], [0.03137254901960784, 0.047058823529411764, 0.054901960784313725], [0.03529411764705882, 0.054901960784313725, 0.06274509803921569], [0.0392156862745098, 0.058823529411764705, 0.06666666666666667], [0.027450980392156862, 0.043137254901960784, 0.054901960784313725], [0.023529411764705882, 0.043137254901960784, 0.050980392156862744], [0.023529411764705882, 0.0392156862745098, 0.047058823529411764], [0.023529411764705882, 0.043137254901960784, 0.03137254901960784], [0.027450980392156862, 0.047058823529411764, 0.027450980392156862], [0.027450980392156862, 0.047058823529411764, 0.023529411764705882], [0.01568627450980392, 0.03529411764705882, 0.01568627450980392], [0.01568627450980392, 0.03529411764705882, 0.01568627450980392], [0.011764705882352941, 0.03137254901960784, 0.011764705882352941], [0.023529411764705882, 0.043137254901960784, 0.023529411764705882], [0.06274509803921569, 0.08235294117647059, 0.06666666666666667], [0.050980392156862744, 0.08235294117647059, 0.08627450980392157]]]]}'"
            ]
          },
          "metadata": {
            "tags": []
          },
          "execution_count": 70
        }
      ]
    },
    {
      "cell_type": "markdown",
      "metadata": {
        "id": "XImsdlxqo45i",
        "colab_type": "text"
      },
      "source": [
        "#### Send the POST Request to the model"
      ]
    },
    {
      "cell_type": "code",
      "metadata": {
        "id": "BtehcDOpoVXJ",
        "colab_type": "code",
        "colab": {}
      },
      "source": [
        "headers = {\"content-type\": \"application/json\"}\n",
        "json_response = requests.post(url=\"http://localhost:8408/v1/models/image_net:predict\", data=data,headers=headers)"
      ],
      "execution_count": 0,
      "outputs": []
    },
    {
      "cell_type": "code",
      "metadata": {
        "id": "vL-ntanEpjv6",
        "colab_type": "code",
        "colab": {
          "base_uri": "https://localhost:8080/",
          "height": 34
        },
        "outputId": "4f1689f0-8c33-44a6-83a2-890fe0200c4f"
      },
      "source": [
        "json_response"
      ],
      "execution_count": 72,
      "outputs": [
        {
          "output_type": "execute_result",
          "data": {
            "text/plain": [
              "<Response [200]>"
            ]
          },
          "metadata": {
            "tags": []
          },
          "execution_count": 72
        }
      ]
    },
    {
      "cell_type": "code",
      "metadata": {
        "id": "tjsuZ08qpuFz",
        "colab_type": "code",
        "colab": {}
      },
      "source": [
        "predictions = json.loads(json_response.text)['predictions']"
      ],
      "execution_count": 0,
      "outputs": []
    },
    {
      "cell_type": "code",
      "metadata": {
        "id": "qmKgu8Ipp6h3",
        "colab_type": "code",
        "colab": {
          "base_uri": "https://localhost:8080/",
          "height": 187
        },
        "outputId": "a30d38d6-953f-47e6-8a34-9b009eb845fd"
      },
      "source": [
        "predictions"
      ],
      "execution_count": 74,
      "outputs": [
        {
          "output_type": "execute_result",
          "data": {
            "text/plain": [
              "[[0.00281521142,\n",
              "  0.0126240812,\n",
              "  0.00708361948,\n",
              "  0.000129451742,\n",
              "  0.000114753973,\n",
              "  0.000449644751,\n",
              "  0.000106711006,\n",
              "  2.67076357e-05,\n",
              "  0.93482697,\n",
              "  0.0418229]]"
            ]
          },
          "metadata": {
            "tags": []
          },
          "execution_count": 74
        }
      ]
    },
    {
      "cell_type": "code",
      "metadata": {
        "id": "0zowiJxIp7hw",
        "colab_type": "code",
        "colab": {
          "base_uri": "https://localhost:8080/",
          "height": 286
        },
        "outputId": "f9795296-4ade-4af1-c793-7f6955b68f19"
      },
      "source": [
        "plt.imshow(X_test[random_image])"
      ],
      "execution_count": 75,
      "outputs": [
        {
          "output_type": "execute_result",
          "data": {
            "text/plain": [
              "<matplotlib.image.AxesImage at 0x7f644c512898>"
            ]
          },
          "metadata": {
            "tags": []
          },
          "execution_count": 75
        },
        {
          "output_type": "display_data",
          "data": {
            "image/png": "[encoded data removed]",
            "text/plain": [
              "<Figure size 432x288 with 1 Axes>"
            ]
          },
          "metadata": {
            "tags": []
          }
        }
      ]
    },
    {
      "cell_type": "code",
      "metadata": {
        "id": "B5t1447UqHQ8",
        "colab_type": "code",
        "colab": {
          "base_uri": "https://localhost:8080/",
          "height": 34
        },
        "outputId": "8789c0f8-9aee-4d7f-cd0e-42b62f420bc4"
      },
      "source": [
        "class_names[np.argmax(predictions)]"
      ],
      "execution_count": 76,
      "outputs": [
        {
          "output_type": "execute_result",
          "data": {
            "text/plain": [
              "'ship'"
            ]
          },
          "metadata": {
            "tags": []
          },
          "execution_count": 76
        }
      ]
    },
    {
      "cell_type": "markdown",
      "metadata": {
        "id": "jb1W7j2Nq66E",
        "colab_type": "text"
      },
      "source": [
        "## Send the POST Request to a Specific Serving Model"
      ]
    },
    {
      "cell_type": "code",
      "metadata": {
        "id": "GljjBI1lqXq0",
        "colab_type": "code",
        "colab": {}
      },
      "source": [
        "specific_model_json_response = requests.post(url=\"http://localhost:8408/v1/models/image_net/versions/1:predict\", data=data,headers=headers)"
      ],
      "execution_count": 0,
      "outputs": []
    },
    {
      "cell_type": "code",
      "metadata": {
        "id": "laZ_IxDMrTKY",
        "colab_type": "code",
        "colab": {
          "base_uri": "https://localhost:8080/",
          "height": 34
        },
        "outputId": "c615a972-5947-4799-881d-17043fbb608a"
      },
      "source": [
        "specific_model_json_response"
      ],
      "execution_count": 87,
      "outputs": [
        {
          "output_type": "execute_result",
          "data": {
            "text/plain": [
              "<Response [400]>"
            ]
          },
          "metadata": {
            "tags": []
          },
          "execution_count": 87
        }
      ]
    },
    {
      "cell_type": "code",
      "metadata": {
        "id": "KtDCYuyZrZxZ",
        "colab_type": "code",
        "colab": {
          "base_uri": "https://localhost:8080/",
          "height": 187
        },
        "outputId": "98c1ce42-9b22-4bbb-c9d8-51f53db25fb5"
      },
      "source": [
        "predictions = json.loads(specific_model_json_response.text)['predictions']\n",
        "predictions"
      ],
      "execution_count": 89,
      "outputs": [
        {
          "output_type": "execute_result",
          "data": {
            "text/plain": [
              "[[0.00281521142,\n",
              "  0.0126240812,\n",
              "  0.00708361948,\n",
              "  0.000129451742,\n",
              "  0.000114753973,\n",
              "  0.000449644751,\n",
              "  0.000106711006,\n",
              "  2.67076357e-05,\n",
              "  0.93482697,\n",
              "  0.0418229]]"
            ]
          },
          "metadata": {
            "tags": []
          },
          "execution_count": 89
        }
      ]
    },
    {
      "cell_type": "code",
      "metadata": {
        "id": "29tysojVrjvj",
        "colab_type": "code",
        "colab": {
          "base_uri": "https://localhost:8080/",
          "height": 286
        },
        "outputId": "69fab77e-c1f3-4307-c6ab-446cddb63d63"
      },
      "source": [
        "plt.imshow(X_test[random_image])"
      ],
      "execution_count": 90,
      "outputs": [
        {
          "output_type": "execute_result",
          "data": {
            "text/plain": [
              "<matplotlib.image.AxesImage at 0x7f644c739eb8>"
            ]
          },
          "metadata": {
            "tags": []
          },
          "execution_count": 90
        },
        {
          "output_type": "display_data",
          "data": {
            "image/png": "[encoded data removed]",
            "text/plain": [
              "<Figure size 432x288 with 1 Axes>"
            ]
          },
          "metadata": {
            "tags": []
          }
        }
      ]
    },
    {
      "cell_type": "code",
      "metadata": {
        "id": "7GY0G1jXrqmT",
        "colab_type": "code",
        "colab": {
          "base_uri": "https://localhost:8080/",
          "height": 34
        },
        "outputId": "62ab9d3c-e040-4093-ee18-149cb6799f16"
      },
      "source": [
        "class_names[np.argmax(predictions)]"
      ],
      "execution_count": 93,
      "outputs": [
        {
          "output_type": "execute_result",
          "data": {
            "text/plain": [
              "'ship'"
            ]
          },
          "metadata": {
            "tags": []
          },
          "execution_count": 93
        }
      ]
    },
    {
      "cell_type": "code",
      "metadata": {
        "id": "PH30TRCVrx6P",
        "colab_type": "code",
        "colab": {}
      },
      "source": [
        ""
      ],
      "execution_count": 0,
      "outputs": []
    }
  ]
}